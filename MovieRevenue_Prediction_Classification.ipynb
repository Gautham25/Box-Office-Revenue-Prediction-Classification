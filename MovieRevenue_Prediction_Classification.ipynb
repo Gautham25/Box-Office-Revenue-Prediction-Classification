{
  "nbformat": 4,
  "nbformat_minor": 0,
  "metadata": {
    "colab": {
      "name": "DataAnalyticsProjectCode",
      "provenance": [],
      "collapsed_sections": [],
      "toc_visible": true
    },
    "kernelspec": {
      "name": "python3",
      "display_name": "Python 3"
    }
  },
  "cells": [
    {
      "cell_type": "markdown",
      "metadata": {
        "id": "CmqE4_xqeXPa",
        "colab_type": "text"
      },
      "source": [
        "DATA ANALYTICS FINAL PROJECT CODE\n",
        "\n",
        "Instructions\n",
        "1. Upload the updated_movie_metadata-2.csv file\n",
        "2. Run first and second cells (Initialization and imports section) initially atlease once\n",
        "3. You can run the cells sequentially or use the table of content to skip to one of the models"
      ]
    },
    {
      "cell_type": "markdown",
      "metadata": {
        "id": "zaV8cZExgLKt",
        "colab_type": "text"
      },
      "source": [
        "# INITIALIZATIONS AND IMPORTS"
      ]
    },
    {
      "cell_type": "code",
      "metadata": {
        "id": "rmfunTSv7leB",
        "colab_type": "code",
        "colab": {}
      },
      "source": [
        "import pandas as pd\n",
        "import numpy as np\n",
        "import math\n",
        "import ast\n",
        "import seaborn as sns\n",
        "import statsmodels.formula.api as smf\n",
        "from sklearn.linear_model import LinearRegression\n",
        "from sklearn import metrics\n",
        "from sklearn.model_selection import train_test_split\n",
        "import numpy as np\n",
        "from sklearn import preprocessing\n",
        "from matplotlib import pyplot as plt\n",
        "from sklearn.preprocessing import StandardScaler, MinMaxScaler\n",
        "from sklearn.metrics import r2_score \n"
      ],
      "execution_count": 0,
      "outputs": []
    },
    {
      "cell_type": "code",
      "metadata": {
        "id": "bJWDPx8Ioi9V",
        "colab_type": "code",
        "colab": {}
      },
      "source": [
        "def readData(): \n",
        "    navalues = {'adult':False, 'belongs_to_collection':'', 'budget':0, 'genres':'[]', 'homepage':'', 'id':-1,\n",
        "        'imdb_id':'', 'original_language':'', 'original_title':'', 'overview':'',\n",
        "        'popularity':-1, 'poster_path':'', 'production_companies':'[]',\n",
        "        'production_countries':'[]', 'release_date':'', 'revenue':0, 'runtime':-1,\n",
        "        'spoken_languages':'[]', 'status':'', 'tagline':'', 'title':'', 'video':False,\n",
        "        'vote_average':-1, 'vote_count':-1}\n",
        "\n",
        "    data =  pd.read_csv(\"./updated_movie_metadata-2.csv\",\n",
        "                        dtype = {'budget':np.float, 'belongs_to_collection':str,'sequel':int, 'id':'Int64', 'homepage':str, \n",
        "                                    'imdb_id':str, 'original_language':str, 'original_title':str, 'adult':int,\n",
        "                                    'overview':str, 'popularity':np.float, 'poster_path':str,'revenue':np.float, \n",
        "                                    'runtime':'Int64','tagline':str, 'title':str, 'vote_average':np.float, \n",
        "                                    'vote_count':'Int64','Music':int, 'Romance':int, 'Science_Fiction':int, 'Horror':int, \n",
        "                                'War':int, 'History':int, 'Animation':int, 'TV_Movie':int, 'Action':int, 'Mystery':int, \n",
        "                                'Adventure':int, 'Western':int, 'Documentary':int, 'Foreign':int, 'Comedy':int, 'Drama':int, \n",
        "                                'Fantasy':int, 'Family':int, 'Crime':int, 'Thriller':int},\n",
        "                        na_values=np.nan)\n",
        "    return data\n",
        "\n",
        "def categorizeRevenue(data):\n",
        "\n",
        "    data[\"profit\"] = \"profit\"\n",
        "\n",
        "    for index,row in data.iterrows():\n",
        "        if row.revenue <= 9631905.25:\n",
        "            data.loc[index,\"profit\"] = \"low-profit\"\n",
        "        elif  row.revenue > 99347600.25:\n",
        "            data.loc[index,\"profit\"] = \"high-profit\"\n",
        "    return data\n",
        "\n",
        "\n",
        "data = readData()\n",
        "backupdata = data"
      ],
      "execution_count": 0,
      "outputs": []
    },
    {
      "cell_type": "markdown",
      "metadata": {
        "id": "R1ULeoaOfBaJ",
        "colab_type": "text"
      },
      "source": [
        "# LINEAR REGRESSION CODE"
      ]
    },
    {
      "cell_type": "markdown",
      "metadata": {
        "colab_type": "text",
        "id": "QFkC3iZOVeX6"
      },
      "source": [
        "\n",
        "\n",
        "---\n",
        "\n",
        "\n",
        "\n",
        "---\n",
        "\n",
        "\n",
        "Linear Regression\n",
        "\n",
        "\n",
        "---\n",
        "\n",
        "\n",
        "\n",
        "---\n",
        "\n",
        "\n"
      ]
    },
    {
      "cell_type": "code",
      "metadata": {
        "id": "m7RbBATlNqH2",
        "colab_type": "code",
        "outputId": "e81f9068-ed28-49c2-c90f-8b7c6a88aefc",
        "colab": {
          "base_uri": "https://localhost:8080/",
          "height": 224
        }
      },
      "source": [
        "data = readData()\n",
        "data.adult = data.adult.astype(int)\n",
        "data.video = data.video.astype(int)\n",
        "data.release_date = pd.to_datetime(data.release_date, format='%m/%d/%Y')\n",
        "linregData = data[['adult','sequel','budget','vote_average','popularity', 'vote_count','vote_total',\n",
        "                'runtime','video','Documentary', 'Mystery', 'Fantasy',\n",
        "               'Horror', 'Thriller', 'Animation', 'Western', 'War', \n",
        "                'Family', 'Action','Adventure', 'TV_Movie', 'Music', \n",
        "                'Romance', 'Crime', 'Drama','History', 'Science_Fiction',\n",
        "                'Comedy', 'Foreign','revenue']].copy()\n",
        "\n",
        "x = linregData.values #returns a numpy array\n",
        "scaler = preprocessing.MinMaxScaler()\n",
        "# scaler = preprocessing.StandardScaler()\n",
        "x_scaled = scaler.fit_transform(x)\n",
        "linregData = pd.DataFrame(x_scaled)\n",
        "linregData.columns = ['adult','sequel','budget','vote_average','popularity', 'vote_count', 'vote_total',\n",
        "                'runtime','video','Documentary', 'Mystery', 'Fantasy',\n",
        "               'Horror', 'Thriller', 'Animation', 'Western', 'War', \n",
        "                'Family', 'Action','Adventure', 'TV_Movie', 'Music', \n",
        "                'Romance', 'Crime', 'Drama','History', 'Science_Fiction',\n",
        "                'Comedy', 'Foreign','revenue']\n",
        "\n",
        "linregData.head()"
      ],
      "execution_count": 0,
      "outputs": [
        {
          "output_type": "execute_result",
          "data": {
            "text/html": [
              "<div>\n",
              "<style scoped>\n",
              "    .dataframe tbody tr th:only-of-type {\n",
              "        vertical-align: middle;\n",
              "    }\n",
              "\n",
              "    .dataframe tbody tr th {\n",
              "        vertical-align: top;\n",
              "    }\n",
              "\n",
              "    .dataframe thead th {\n",
              "        text-align: right;\n",
              "    }\n",
              "</style>\n",
              "<table border=\"1\" class=\"dataframe\">\n",
              "  <thead>\n",
              "    <tr style=\"text-align: right;\">\n",
              "      <th></th>\n",
              "      <th>adult</th>\n",
              "      <th>sequel</th>\n",
              "      <th>budget</th>\n",
              "      <th>vote_average</th>\n",
              "      <th>popularity</th>\n",
              "      <th>vote_count</th>\n",
              "      <th>vote_total</th>\n",
              "      <th>runtime</th>\n",
              "      <th>video</th>\n",
              "      <th>Documentary</th>\n",
              "      <th>Mystery</th>\n",
              "      <th>Fantasy</th>\n",
              "      <th>Horror</th>\n",
              "      <th>Thriller</th>\n",
              "      <th>Animation</th>\n",
              "      <th>Western</th>\n",
              "      <th>War</th>\n",
              "      <th>Family</th>\n",
              "      <th>Action</th>\n",
              "      <th>Adventure</th>\n",
              "      <th>TV_Movie</th>\n",
              "      <th>Music</th>\n",
              "      <th>Romance</th>\n",
              "      <th>Crime</th>\n",
              "      <th>Drama</th>\n",
              "      <th>History</th>\n",
              "      <th>Science_Fiction</th>\n",
              "      <th>Comedy</th>\n",
              "      <th>Foreign</th>\n",
              "      <th>revenue</th>\n",
              "    </tr>\n",
              "  </thead>\n",
              "  <tbody>\n",
              "    <tr>\n",
              "      <th>0</th>\n",
              "      <td>0.0</td>\n",
              "      <td>1.0</td>\n",
              "      <td>0.078947</td>\n",
              "      <td>0.885057</td>\n",
              "      <td>0.040086</td>\n",
              "      <td>0.384725</td>\n",
              "      <td>0.365726</td>\n",
              "      <td>0.318898</td>\n",
              "      <td>0.0</td>\n",
              "      <td>0.0</td>\n",
              "      <td>0.0</td>\n",
              "      <td>0.0</td>\n",
              "      <td>0.0</td>\n",
              "      <td>0.0</td>\n",
              "      <td>1.0</td>\n",
              "      <td>0.0</td>\n",
              "      <td>0.0</td>\n",
              "      <td>1.0</td>\n",
              "      <td>0.0</td>\n",
              "      <td>0.0</td>\n",
              "      <td>0.0</td>\n",
              "      <td>0.0</td>\n",
              "      <td>0.0</td>\n",
              "      <td>0.0</td>\n",
              "      <td>0.0</td>\n",
              "      <td>0.0</td>\n",
              "      <td>0.0</td>\n",
              "      <td>1.0</td>\n",
              "      <td>0.0</td>\n",
              "      <td>0.133677</td>\n",
              "    </tr>\n",
              "    <tr>\n",
              "      <th>1</th>\n",
              "      <td>0.0</td>\n",
              "      <td>0.0</td>\n",
              "      <td>0.171053</td>\n",
              "      <td>0.793103</td>\n",
              "      <td>0.031079</td>\n",
              "      <td>0.171439</td>\n",
              "      <td>0.146040</td>\n",
              "      <td>0.409449</td>\n",
              "      <td>0.0</td>\n",
              "      <td>0.0</td>\n",
              "      <td>0.0</td>\n",
              "      <td>1.0</td>\n",
              "      <td>0.0</td>\n",
              "      <td>0.0</td>\n",
              "      <td>0.0</td>\n",
              "      <td>0.0</td>\n",
              "      <td>0.0</td>\n",
              "      <td>1.0</td>\n",
              "      <td>0.0</td>\n",
              "      <td>1.0</td>\n",
              "      <td>0.0</td>\n",
              "      <td>0.0</td>\n",
              "      <td>0.0</td>\n",
              "      <td>0.0</td>\n",
              "      <td>0.0</td>\n",
              "      <td>0.0</td>\n",
              "      <td>0.0</td>\n",
              "      <td>0.0</td>\n",
              "      <td>0.0</td>\n",
              "      <td>0.093936</td>\n",
              "    </tr>\n",
              "    <tr>\n",
              "      <th>2</th>\n",
              "      <td>0.0</td>\n",
              "      <td>0.0</td>\n",
              "      <td>0.042105</td>\n",
              "      <td>0.701149</td>\n",
              "      <td>0.007049</td>\n",
              "      <td>0.002416</td>\n",
              "      <td>0.001819</td>\n",
              "      <td>0.500000</td>\n",
              "      <td>0.0</td>\n",
              "      <td>0.0</td>\n",
              "      <td>0.0</td>\n",
              "      <td>0.0</td>\n",
              "      <td>0.0</td>\n",
              "      <td>0.0</td>\n",
              "      <td>0.0</td>\n",
              "      <td>0.0</td>\n",
              "      <td>0.0</td>\n",
              "      <td>0.0</td>\n",
              "      <td>0.0</td>\n",
              "      <td>0.0</td>\n",
              "      <td>0.0</td>\n",
              "      <td>0.0</td>\n",
              "      <td>1.0</td>\n",
              "      <td>0.0</td>\n",
              "      <td>1.0</td>\n",
              "      <td>0.0</td>\n",
              "      <td>0.0</td>\n",
              "      <td>1.0</td>\n",
              "      <td>0.0</td>\n",
              "      <td>0.028867</td>\n",
              "    </tr>\n",
              "    <tr>\n",
              "      <th>3</th>\n",
              "      <td>0.0</td>\n",
              "      <td>1.0</td>\n",
              "      <td>0.039474</td>\n",
              "      <td>0.655172</td>\n",
              "      <td>0.015319</td>\n",
              "      <td>0.012291</td>\n",
              "      <td>0.008649</td>\n",
              "      <td>0.417323</td>\n",
              "      <td>0.0</td>\n",
              "      <td>0.0</td>\n",
              "      <td>0.0</td>\n",
              "      <td>0.0</td>\n",
              "      <td>0.0</td>\n",
              "      <td>0.0</td>\n",
              "      <td>0.0</td>\n",
              "      <td>0.0</td>\n",
              "      <td>0.0</td>\n",
              "      <td>0.0</td>\n",
              "      <td>0.0</td>\n",
              "      <td>0.0</td>\n",
              "      <td>0.0</td>\n",
              "      <td>0.0</td>\n",
              "      <td>0.0</td>\n",
              "      <td>0.0</td>\n",
              "      <td>0.0</td>\n",
              "      <td>0.0</td>\n",
              "      <td>0.0</td>\n",
              "      <td>1.0</td>\n",
              "      <td>0.0</td>\n",
              "      <td>0.027119</td>\n",
              "    </tr>\n",
              "    <tr>\n",
              "      <th>4</th>\n",
              "      <td>0.0</td>\n",
              "      <td>0.0</td>\n",
              "      <td>0.157895</td>\n",
              "      <td>0.885057</td>\n",
              "      <td>0.032740</td>\n",
              "      <td>0.133996</td>\n",
              "      <td>0.127379</td>\n",
              "      <td>0.669291</td>\n",
              "      <td>0.0</td>\n",
              "      <td>0.0</td>\n",
              "      <td>0.0</td>\n",
              "      <td>0.0</td>\n",
              "      <td>0.0</td>\n",
              "      <td>1.0</td>\n",
              "      <td>0.0</td>\n",
              "      <td>0.0</td>\n",
              "      <td>0.0</td>\n",
              "      <td>0.0</td>\n",
              "      <td>1.0</td>\n",
              "      <td>0.0</td>\n",
              "      <td>0.0</td>\n",
              "      <td>0.0</td>\n",
              "      <td>0.0</td>\n",
              "      <td>1.0</td>\n",
              "      <td>1.0</td>\n",
              "      <td>0.0</td>\n",
              "      <td>0.0</td>\n",
              "      <td>0.0</td>\n",
              "      <td>0.0</td>\n",
              "      <td>0.066896</td>\n",
              "    </tr>\n",
              "  </tbody>\n",
              "</table>\n",
              "</div>"
            ],
            "text/plain": [
              "   adult  sequel    budget  ...  Comedy  Foreign   revenue\n",
              "0    0.0     1.0  0.078947  ...     1.0      0.0  0.133677\n",
              "1    0.0     0.0  0.171053  ...     0.0      0.0  0.093936\n",
              "2    0.0     0.0  0.042105  ...     1.0      0.0  0.028867\n",
              "3    0.0     1.0  0.039474  ...     1.0      0.0  0.027119\n",
              "4    0.0     0.0  0.157895  ...     0.0      0.0  0.066896\n",
              "\n",
              "[5 rows x 30 columns]"
            ]
          },
          "metadata": {
            "tags": []
          },
          "execution_count": 184
        }
      ]
    },
    {
      "cell_type": "code",
      "metadata": {
        "id": "LCzYdDylsuu-",
        "colab_type": "code",
        "outputId": "6ec20f10-c463-49d1-bb15-070b1f76b4ca",
        "colab": {
          "base_uri": "https://localhost:8080/",
          "height": 1000
        }
      },
      "source": [
        "feature_cols = ['adult','sequel','budget','vote_average','popularity', 'vote_count', 'vote_total',\n",
        "                'runtime','video','Documentary', 'Mystery', 'Fantasy',\n",
        "               'Horror', 'Thriller', 'Animation', 'Western', 'War', \n",
        "                'Family', 'Action','Adventure', 'TV_Movie', 'Music', \n",
        "                'Romance', 'Crime', 'Drama','History', 'Science_Fiction',\n",
        "                'Comedy', 'Foreign']\n",
        "linregData['revenue'] = data.revenue.astype(float)\n",
        "\n",
        "X_train, X_test, y_train, y_test = train_test_split(linregData[feature_cols],data.revenue, test_size=0.2, random_state=42)\n",
        "X = linregData[feature_cols]\n",
        "y = data.revenue\n",
        "# create a fitted model with all three features\n",
        "linearModel1 = smf.ols(formula=\"revenue ~ adult + sequel + budget + vote_average + popularity + vote_count + vote_total + video + Science_Fiction + TV_Movie + Documentary + Mystery + Fantasy + Horror + Thriller + Animation + Western + War + Family + Action + Adventure + Music + Romance + Crime + Drama + History + Comedy + Foreign\", data=linregData).fit()\n",
        "linearModel1.params\n",
        "\n",
        "# instantiate and fit\n",
        "linearModel2 = LinearRegression(normalize=True)\n",
        "linearModel2.fit(X_train, y_train)\n",
        "y_pred = linearModel2.predict(X_test)\n",
        "print(\"Linear Model-1 R-Square = \",linearModel1.rsquared)\n",
        "print(\"Linear Model-2 R-Square = \",r2_score(y_test,y_pred))\n",
        "linearModel1.summary()"
      ],
      "execution_count": 0,
      "outputs": [
        {
          "output_type": "stream",
          "text": [
            "Linear Model-1 R-Square =  0.7452270774523764\n",
            "Linear Model-2 R-Square =  0.7185064586830532\n"
          ],
          "name": "stdout"
        },
        {
          "output_type": "execute_result",
          "data": {
            "text/html": [
              "<table class=\"simpletable\">\n",
              "<caption>OLS Regression Results</caption>\n",
              "<tr>\n",
              "  <th>Dep. Variable:</th>         <td>revenue</td>     <th>  R-squared:         </th>  <td>   0.745</td>  \n",
              "</tr>\n",
              "<tr>\n",
              "  <th>Model:</th>                   <td>OLS</td>       <th>  Adj. R-squared:    </th>  <td>   0.744</td>  \n",
              "</tr>\n",
              "<tr>\n",
              "  <th>Method:</th>             <td>Least Squares</td>  <th>  F-statistic:       </th>  <td>   597.3</td>  \n",
              "</tr>\n",
              "<tr>\n",
              "  <th>Date:</th>             <td>Mon, 16 Mar 2020</td> <th>  Prob (F-statistic):</th>   <td>  0.00</td>   \n",
              "</tr>\n",
              "<tr>\n",
              "  <th>Time:</th>                 <td>08:08:25</td>     <th>  Log-Likelihood:    </th> <td>-1.0492e+05</td>\n",
              "</tr>\n",
              "<tr>\n",
              "  <th>No. Observations:</th>      <td>  5336</td>      <th>  AIC:               </th>  <td>2.099e+05</td> \n",
              "</tr>\n",
              "<tr>\n",
              "  <th>Df Residuals:</th>          <td>  5309</td>      <th>  BIC:               </th>  <td>2.101e+05</td> \n",
              "</tr>\n",
              "<tr>\n",
              "  <th>Df Model:</th>              <td>    26</td>      <th>                     </th>      <td> </td>     \n",
              "</tr>\n",
              "<tr>\n",
              "  <th>Covariance Type:</th>      <td>nonrobust</td>    <th>                     </th>      <td> </td>     \n",
              "</tr>\n",
              "</table>\n",
              "<table class=\"simpletable\">\n",
              "<tr>\n",
              "         <td></td>            <th>coef</th>     <th>std err</th>      <th>t</th>      <th>P>|t|</th>  <th>[0.025</th>    <th>0.975]</th>  \n",
              "</tr>\n",
              "<tr>\n",
              "  <th>Intercept</th>       <td>-5.761e+07</td> <td> 1.07e+07</td> <td>   -5.398</td> <td> 0.000</td> <td>-7.85e+07</td> <td>-3.67e+07</td>\n",
              "</tr>\n",
              "<tr>\n",
              "  <th>adult</th>           <td> 7.041e-06</td> <td> 5.63e-07</td> <td>   12.499</td> <td> 0.000</td> <td> 5.94e-06</td> <td> 8.15e-06</td>\n",
              "</tr>\n",
              "<tr>\n",
              "  <th>sequel</th>          <td> 4.759e+07</td> <td>  3.1e+06</td> <td>   15.367</td> <td> 0.000</td> <td> 4.15e+07</td> <td> 5.37e+07</td>\n",
              "</tr>\n",
              "<tr>\n",
              "  <th>budget</th>          <td> 6.087e+08</td> <td> 1.67e+07</td> <td>   36.512</td> <td> 0.000</td> <td> 5.76e+08</td> <td> 6.41e+08</td>\n",
              "</tr>\n",
              "<tr>\n",
              "  <th>vote_average</th>    <td> 3.514e+07</td> <td> 1.41e+07</td> <td>    2.494</td> <td> 0.013</td> <td> 7.52e+06</td> <td> 6.28e+07</td>\n",
              "</tr>\n",
              "<tr>\n",
              "  <th>popularity</th>      <td> 5.043e+08</td> <td> 5.19e+07</td> <td>    9.711</td> <td> 0.000</td> <td> 4.02e+08</td> <td> 6.06e+08</td>\n",
              "</tr>\n",
              "<tr>\n",
              "  <th>vote_count</th>      <td>   1.8e+09</td> <td> 1.42e+08</td> <td>   12.638</td> <td> 0.000</td> <td> 1.52e+09</td> <td> 2.08e+09</td>\n",
              "</tr>\n",
              "<tr>\n",
              "  <th>vote_total</th>      <td>-9.938e+08</td> <td> 1.52e+08</td> <td>   -6.519</td> <td> 0.000</td> <td>-1.29e+09</td> <td>-6.95e+08</td>\n",
              "</tr>\n",
              "<tr>\n",
              "  <th>video</th>           <td> 1.796e-07</td> <td> 1.15e-07</td> <td>    1.555</td> <td> 0.120</td> <td>-4.68e-08</td> <td> 4.06e-07</td>\n",
              "</tr>\n",
              "<tr>\n",
              "  <th>Science_Fiction</th> <td>-2.862e+07</td> <td> 3.96e+06</td> <td>   -7.237</td> <td> 0.000</td> <td>-3.64e+07</td> <td>-2.09e+07</td>\n",
              "</tr>\n",
              "<tr>\n",
              "  <th>TV_Movie</th>        <td> 7.487e+07</td> <td> 8.41e+07</td> <td>    0.890</td> <td> 0.374</td> <td>-9.01e+07</td> <td>  2.4e+08</td>\n",
              "</tr>\n",
              "<tr>\n",
              "  <th>Documentary</th>     <td> 9.913e+06</td> <td> 1.03e+07</td> <td>    0.964</td> <td> 0.335</td> <td>-1.02e+07</td> <td> 3.01e+07</td>\n",
              "</tr>\n",
              "<tr>\n",
              "  <th>Mystery</th>         <td>-2.841e+06</td> <td> 4.46e+06</td> <td>   -0.637</td> <td> 0.524</td> <td>-1.16e+07</td> <td>  5.9e+06</td>\n",
              "</tr>\n",
              "<tr>\n",
              "  <th>Fantasy</th>         <td> -9.81e+05</td> <td> 4.25e+06</td> <td>   -0.231</td> <td> 0.817</td> <td>-9.31e+06</td> <td> 7.35e+06</td>\n",
              "</tr>\n",
              "<tr>\n",
              "  <th>Horror</th>          <td>-3.301e+06</td> <td> 4.44e+06</td> <td>   -0.744</td> <td> 0.457</td> <td> -1.2e+07</td> <td> 5.39e+06</td>\n",
              "</tr>\n",
              "<tr>\n",
              "  <th>Thriller</th>        <td>-2.576e+06</td> <td> 3.21e+06</td> <td>   -0.802</td> <td> 0.423</td> <td>-8.87e+06</td> <td> 3.72e+06</td>\n",
              "</tr>\n",
              "<tr>\n",
              "  <th>Animation</th>       <td> 1.722e+07</td> <td> 6.34e+06</td> <td>    2.717</td> <td> 0.007</td> <td>  4.8e+06</td> <td> 2.96e+07</td>\n",
              "</tr>\n",
              "<tr>\n",
              "  <th>Western</th>         <td>-1.321e+07</td> <td> 8.89e+06</td> <td>   -1.486</td> <td> 0.137</td> <td>-3.06e+07</td> <td> 4.21e+06</td>\n",
              "</tr>\n",
              "<tr>\n",
              "  <th>War</th>             <td>-5.358e+06</td> <td> 6.97e+06</td> <td>   -0.768</td> <td> 0.442</td> <td> -1.9e+07</td> <td> 8.31e+06</td>\n",
              "</tr>\n",
              "<tr>\n",
              "  <th>Family</th>          <td> 1.671e+07</td> <td> 4.78e+06</td> <td>    3.498</td> <td> 0.000</td> <td> 7.35e+06</td> <td> 2.61e+07</td>\n",
              "</tr>\n",
              "<tr>\n",
              "  <th>Action</th>          <td> -9.77e+06</td> <td>  3.3e+06</td> <td>   -2.962</td> <td> 0.003</td> <td>-1.62e+07</td> <td> -3.3e+06</td>\n",
              "</tr>\n",
              "<tr>\n",
              "  <th>Adventure</th>       <td> 1.158e+07</td> <td> 3.57e+06</td> <td>    3.240</td> <td> 0.001</td> <td> 4.58e+06</td> <td> 1.86e+07</td>\n",
              "</tr>\n",
              "<tr>\n",
              "  <th>Music</th>           <td> 8.077e+06</td> <td> 6.03e+06</td> <td>    1.340</td> <td> 0.180</td> <td>-3.74e+06</td> <td> 1.99e+07</td>\n",
              "</tr>\n",
              "<tr>\n",
              "  <th>Romance</th>         <td> 1.735e+07</td> <td> 3.21e+06</td> <td>    5.412</td> <td> 0.000</td> <td> 1.11e+07</td> <td> 2.36e+07</td>\n",
              "</tr>\n",
              "<tr>\n",
              "  <th>Crime</th>           <td>-9.345e+06</td> <td> 3.52e+06</td> <td>   -2.651</td> <td> 0.008</td> <td>-1.63e+07</td> <td>-2.44e+06</td>\n",
              "</tr>\n",
              "<tr>\n",
              "  <th>Drama</th>           <td>-4.734e+04</td> <td> 2.95e+06</td> <td>   -0.016</td> <td> 0.987</td> <td>-5.83e+06</td> <td> 5.73e+06</td>\n",
              "</tr>\n",
              "<tr>\n",
              "  <th>History</th>         <td>-3.124e+06</td> <td> 6.46e+06</td> <td>   -0.483</td> <td> 0.629</td> <td>-1.58e+07</td> <td> 9.55e+06</td>\n",
              "</tr>\n",
              "<tr>\n",
              "  <th>Comedy</th>          <td> 4.778e+06</td> <td> 2.96e+06</td> <td>    1.616</td> <td> 0.106</td> <td>-1.02e+06</td> <td> 1.06e+07</td>\n",
              "</tr>\n",
              "<tr>\n",
              "  <th>Foreign</th>         <td>-1.036e+06</td> <td> 2.81e+07</td> <td>   -0.037</td> <td> 0.971</td> <td>-5.61e+07</td> <td> 5.41e+07</td>\n",
              "</tr>\n",
              "</table>\n",
              "<table class=\"simpletable\">\n",
              "<tr>\n",
              "  <th>Omnibus:</th>       <td>4148.805</td> <th>  Durbin-Watson:     </th>  <td>   1.955</td> \n",
              "</tr>\n",
              "<tr>\n",
              "  <th>Prob(Omnibus):</th>  <td> 0.000</td>  <th>  Jarque-Bera (JB):  </th> <td>357328.047</td>\n",
              "</tr>\n",
              "<tr>\n",
              "  <th>Skew:</th>           <td> 3.083</td>  <th>  Prob(JB):          </th>  <td>    0.00</td> \n",
              "</tr>\n",
              "<tr>\n",
              "  <th>Kurtosis:</th>       <td>42.613</td>  <th>  Cond. No.          </th>  <td>1.36e+16</td> \n",
              "</tr>\n",
              "</table><br/><br/>Warnings:<br/>[1] Standard Errors assume that the covariance matrix of the errors is correctly specified.<br/>[2] The smallest eigenvalue is 6.52e-29. This might indicate that there are<br/>strong multicollinearity problems or that the design matrix is singular."
            ],
            "text/plain": [
              "<class 'statsmodels.iolib.summary.Summary'>\n",
              "\"\"\"\n",
              "                            OLS Regression Results                            \n",
              "==============================================================================\n",
              "Dep. Variable:                revenue   R-squared:                       0.745\n",
              "Model:                            OLS   Adj. R-squared:                  0.744\n",
              "Method:                 Least Squares   F-statistic:                     597.3\n",
              "Date:                Mon, 16 Mar 2020   Prob (F-statistic):               0.00\n",
              "Time:                        08:08:25   Log-Likelihood:            -1.0492e+05\n",
              "No. Observations:                5336   AIC:                         2.099e+05\n",
              "Df Residuals:                    5309   BIC:                         2.101e+05\n",
              "Df Model:                          26                                         \n",
              "Covariance Type:            nonrobust                                         \n",
              "===================================================================================\n",
              "                      coef    std err          t      P>|t|      [0.025      0.975]\n",
              "-----------------------------------------------------------------------------------\n",
              "Intercept       -5.761e+07   1.07e+07     -5.398      0.000   -7.85e+07   -3.67e+07\n",
              "adult            7.041e-06   5.63e-07     12.499      0.000    5.94e-06    8.15e-06\n",
              "sequel           4.759e+07    3.1e+06     15.367      0.000    4.15e+07    5.37e+07\n",
              "budget           6.087e+08   1.67e+07     36.512      0.000    5.76e+08    6.41e+08\n",
              "vote_average     3.514e+07   1.41e+07      2.494      0.013    7.52e+06    6.28e+07\n",
              "popularity       5.043e+08   5.19e+07      9.711      0.000    4.02e+08    6.06e+08\n",
              "vote_count         1.8e+09   1.42e+08     12.638      0.000    1.52e+09    2.08e+09\n",
              "vote_total      -9.938e+08   1.52e+08     -6.519      0.000   -1.29e+09   -6.95e+08\n",
              "video            1.796e-07   1.15e-07      1.555      0.120   -4.68e-08    4.06e-07\n",
              "Science_Fiction -2.862e+07   3.96e+06     -7.237      0.000   -3.64e+07   -2.09e+07\n",
              "TV_Movie         7.487e+07   8.41e+07      0.890      0.374   -9.01e+07     2.4e+08\n",
              "Documentary      9.913e+06   1.03e+07      0.964      0.335   -1.02e+07    3.01e+07\n",
              "Mystery         -2.841e+06   4.46e+06     -0.637      0.524   -1.16e+07     5.9e+06\n",
              "Fantasy          -9.81e+05   4.25e+06     -0.231      0.817   -9.31e+06    7.35e+06\n",
              "Horror          -3.301e+06   4.44e+06     -0.744      0.457    -1.2e+07    5.39e+06\n",
              "Thriller        -2.576e+06   3.21e+06     -0.802      0.423   -8.87e+06    3.72e+06\n",
              "Animation        1.722e+07   6.34e+06      2.717      0.007     4.8e+06    2.96e+07\n",
              "Western         -1.321e+07   8.89e+06     -1.486      0.137   -3.06e+07    4.21e+06\n",
              "War             -5.358e+06   6.97e+06     -0.768      0.442    -1.9e+07    8.31e+06\n",
              "Family           1.671e+07   4.78e+06      3.498      0.000    7.35e+06    2.61e+07\n",
              "Action           -9.77e+06    3.3e+06     -2.962      0.003   -1.62e+07    -3.3e+06\n",
              "Adventure        1.158e+07   3.57e+06      3.240      0.001    4.58e+06    1.86e+07\n",
              "Music            8.077e+06   6.03e+06      1.340      0.180   -3.74e+06    1.99e+07\n",
              "Romance          1.735e+07   3.21e+06      5.412      0.000    1.11e+07    2.36e+07\n",
              "Crime           -9.345e+06   3.52e+06     -2.651      0.008   -1.63e+07   -2.44e+06\n",
              "Drama           -4.734e+04   2.95e+06     -0.016      0.987   -5.83e+06    5.73e+06\n",
              "History         -3.124e+06   6.46e+06     -0.483      0.629   -1.58e+07    9.55e+06\n",
              "Comedy           4.778e+06   2.96e+06      1.616      0.106   -1.02e+06    1.06e+07\n",
              "Foreign         -1.036e+06   2.81e+07     -0.037      0.971   -5.61e+07    5.41e+07\n",
              "==============================================================================\n",
              "Omnibus:                     4148.805   Durbin-Watson:                   1.955\n",
              "Prob(Omnibus):                  0.000   Jarque-Bera (JB):           357328.047\n",
              "Skew:                           3.083   Prob(JB):                         0.00\n",
              "Kurtosis:                      42.613   Cond. No.                     1.36e+16\n",
              "==============================================================================\n",
              "\n",
              "Warnings:\n",
              "[1] Standard Errors assume that the covariance matrix of the errors is correctly specified.\n",
              "[2] The smallest eigenvalue is 6.52e-29. This might indicate that there are\n",
              "strong multicollinearity problems or that the design matrix is singular.\n",
              "\"\"\""
            ]
          },
          "metadata": {
            "tags": []
          },
          "execution_count": 185
        }
      ]
    },
    {
      "cell_type": "markdown",
      "metadata": {
        "id": "HNbNikh7fVDJ",
        "colab_type": "text"
      },
      "source": [
        "# RANDOM FOREST REGRESSOR CODE"
      ]
    },
    {
      "cell_type": "markdown",
      "metadata": {
        "id": "pAoOeCKsXRfA",
        "colab_type": "text"
      },
      "source": [
        "\n",
        "\n",
        "---\n",
        "\n",
        "\n",
        "\n",
        "---\n",
        "Random Forest\n",
        "\n",
        "\n",
        "---\n",
        "\n",
        "\n",
        "\n",
        "---\n",
        "\n",
        "\n"
      ]
    },
    {
      "cell_type": "code",
      "metadata": {
        "id": "JeUw_xrTXstw",
        "colab_type": "code",
        "outputId": "63e636d3-83c0-4d0c-92dd-ef53eba25ecc",
        "colab": {
          "base_uri": "https://localhost:8080/",
          "height": 816
        }
      },
      "source": [
        "import pandas as pd\n",
        "import numpy as np\n",
        "\n",
        "data =  readData()\n",
        "data.adult = data.adult.astype(int)\n",
        "data.video = data.video.astype(int)\n",
        "\n",
        "data.release_date = pd.to_datetime(data.release_date, format='%m/%d/%Y')\n",
        "print(data.iloc[0])"
      ],
      "execution_count": 0,
      "outputs": [
        {
          "output_type": "stream",
          "text": [
            "adult                                                                    0\n",
            "belongs_to_collection                                 Toy Story Collection\n",
            "sequel                                                                   1\n",
            "budget                                                               3e+07\n",
            "genres                                   ['Animation', 'Comedy', 'Family']\n",
            "homepage                              http://toystory.disney.com/toy-story\n",
            "id                                                                     862\n",
            "imdb_id                                                          tt0114709\n",
            "original_language                                                       en\n",
            "original_title                                                   Toy Story\n",
            "overview                 Led by Woody, Andy's toys live happily in his ...\n",
            "popularity                                                         21.9469\n",
            "poster_path                               /rhIRbceoE9lR4veEXuwCC2wARtG.jpg\n",
            "production_companies                           ['Pixar Animation Studios']\n",
            "production_countries                                                ['US']\n",
            "release_date                                           1995-10-30 00:00:00\n",
            "revenue                                                        3.73554e+08\n",
            "runtime                                                                 81\n",
            "spoken_languages                                                    ['en']\n",
            "status                                                            Released\n",
            "tagline                                                                NaN\n",
            "title                                                            Toy Story\n",
            "video                                                                    0\n",
            "vote_average                                                           7.7\n",
            "vote_count                                                            5415\n",
            "War                                                                      0\n",
            "TV_Movie                                                                 0\n",
            "Horror                                                                   0\n",
            "Western                                                                  0\n",
            "Foreign                                                                  0\n",
            "Comedy                                                                   1\n",
            "Documentary                                                              0\n",
            "Science_Fiction                                                          0\n",
            "Mystery                                                                  0\n",
            "Fantasy                                                                  0\n",
            "Crime                                                                    0\n",
            "Action                                                                   0\n",
            "Adventure                                                                0\n",
            "Drama                                                                    0\n",
            "Thriller                                                                 0\n",
            "Family                                                                   1\n",
            "Animation                                                                1\n",
            "Romance                                                                  0\n",
            "History                                                                  0\n",
            "Music                                                                    0\n",
            "vote_total                                                         41695.5\n",
            "Name: 0, dtype: object\n"
          ],
          "name": "stdout"
        }
      ]
    },
    {
      "cell_type": "code",
      "metadata": {
        "id": "fdXorS3pgbJB",
        "colab_type": "code",
        "colab": {}
      },
      "source": [
        "from sklearn.ensemble import RandomForestClassifier, RandomForestRegressor\n",
        "from sklearn.model_selection import train_test_split\n",
        "\n",
        "feature_cols = ['adult','sequel','budget','popularity','vote_total',\n",
        "                'runtime','video','Documentary', 'Mystery', 'Fantasy',\n",
        "               'Horror', 'Thriller', 'Animation', 'Western', 'War', \n",
        "                'Family', 'Action','Adventure', 'TV_Movie', 'Music', \n",
        "                'Romance', 'Crime', 'Drama','History', 'Science_Fiction',\n",
        "                'Comedy', 'Foreign']\n",
        "\n",
        "\n",
        "model = RandomForestRegressor(n_estimators=200, max_features=len(feature_cols), oob_score=True)\n",
        "Xtrain, Xtest, ytrain, ytest = train_test_split(data[feature_cols], data[\"revenue\"], test_size=0.20, random_state=25)\n",
        "model.fit(Xtrain, ytrain)\n",
        "ypred = model.predict(Xtest)"
      ],
      "execution_count": 0,
      "outputs": []
    },
    {
      "cell_type": "code",
      "metadata": {
        "id": "tKLRl4yakWJq",
        "colab_type": "code",
        "outputId": "21fc12d6-b192-4766-c267-58305c6832b9",
        "colab": {
          "base_uri": "https://localhost:8080/",
          "height": 51
        }
      },
      "source": [
        "from sklearn.metrics import r2_score\n",
        "print(model.score(Xtest,ytest))\n",
        "print(\"Random Forest Regression R-Square Value = \",r2_score(ytest,ypred))"
      ],
      "execution_count": 0,
      "outputs": [
        {
          "output_type": "stream",
          "text": [
            "0.8164839192296386\n",
            "Random Forest Regression R-Square Value =  0.8164839192296386\n"
          ],
          "name": "stdout"
        }
      ]
    },
    {
      "cell_type": "code",
      "metadata": {
        "id": "uku3ZktyiHf2",
        "colab_type": "code",
        "outputId": "5046e198-325d-4d4c-a571-1eb0b893b652",
        "colab": {
          "base_uri": "https://localhost:8080/",
          "height": 34
        }
      },
      "source": [
        "# compute the out-of-bag classification accuracy\n",
        "model.oob_score_"
      ],
      "execution_count": 0,
      "outputs": [
        {
          "output_type": "execute_result",
          "data": {
            "text/plain": [
              "0.7623169930279233"
            ]
          },
          "metadata": {
            "tags": []
          },
          "execution_count": 189
        }
      ]
    },
    {
      "cell_type": "code",
      "metadata": {
        "id": "0aGU2DgJgrHR",
        "colab_type": "code",
        "outputId": "1fbb7c07-2cbd-4649-80dc-0da7bd3ba009",
        "colab": {
          "base_uri": "https://localhost:8080/",
          "height": 886
        }
      },
      "source": [
        "pd.DataFrame({'feature':feature_cols, 'importance':model.feature_importances_})"
      ],
      "execution_count": 0,
      "outputs": [
        {
          "output_type": "execute_result",
          "data": {
            "text/html": [
              "<div>\n",
              "<style scoped>\n",
              "    .dataframe tbody tr th:only-of-type {\n",
              "        vertical-align: middle;\n",
              "    }\n",
              "\n",
              "    .dataframe tbody tr th {\n",
              "        vertical-align: top;\n",
              "    }\n",
              "\n",
              "    .dataframe thead th {\n",
              "        text-align: right;\n",
              "    }\n",
              "</style>\n",
              "<table border=\"1\" class=\"dataframe\">\n",
              "  <thead>\n",
              "    <tr style=\"text-align: right;\">\n",
              "      <th></th>\n",
              "      <th>feature</th>\n",
              "      <th>importance</th>\n",
              "    </tr>\n",
              "  </thead>\n",
              "  <tbody>\n",
              "    <tr>\n",
              "      <th>0</th>\n",
              "      <td>adult</td>\n",
              "      <td>0.000000e+00</td>\n",
              "    </tr>\n",
              "    <tr>\n",
              "      <th>1</th>\n",
              "      <td>sequel</td>\n",
              "      <td>1.821990e-02</td>\n",
              "    </tr>\n",
              "    <tr>\n",
              "      <th>2</th>\n",
              "      <td>budget</td>\n",
              "      <td>3.340029e-01</td>\n",
              "    </tr>\n",
              "    <tr>\n",
              "      <th>3</th>\n",
              "      <td>popularity</td>\n",
              "      <td>6.786840e-02</td>\n",
              "    </tr>\n",
              "    <tr>\n",
              "      <th>4</th>\n",
              "      <td>vote_total</td>\n",
              "      <td>4.722042e-01</td>\n",
              "    </tr>\n",
              "    <tr>\n",
              "      <th>5</th>\n",
              "      <td>runtime</td>\n",
              "      <td>4.048846e-02</td>\n",
              "    </tr>\n",
              "    <tr>\n",
              "      <th>6</th>\n",
              "      <td>video</td>\n",
              "      <td>0.000000e+00</td>\n",
              "    </tr>\n",
              "    <tr>\n",
              "      <th>7</th>\n",
              "      <td>Documentary</td>\n",
              "      <td>5.667401e-05</td>\n",
              "    </tr>\n",
              "    <tr>\n",
              "      <th>8</th>\n",
              "      <td>Mystery</td>\n",
              "      <td>1.820843e-03</td>\n",
              "    </tr>\n",
              "    <tr>\n",
              "      <th>9</th>\n",
              "      <td>Fantasy</td>\n",
              "      <td>5.661089e-03</td>\n",
              "    </tr>\n",
              "    <tr>\n",
              "      <th>10</th>\n",
              "      <td>Horror</td>\n",
              "      <td>1.298609e-03</td>\n",
              "    </tr>\n",
              "    <tr>\n",
              "      <th>11</th>\n",
              "      <td>Thriller</td>\n",
              "      <td>4.751042e-03</td>\n",
              "    </tr>\n",
              "    <tr>\n",
              "      <th>12</th>\n",
              "      <td>Animation</td>\n",
              "      <td>5.562559e-03</td>\n",
              "    </tr>\n",
              "    <tr>\n",
              "      <th>13</th>\n",
              "      <td>Western</td>\n",
              "      <td>4.469433e-04</td>\n",
              "    </tr>\n",
              "    <tr>\n",
              "      <th>14</th>\n",
              "      <td>War</td>\n",
              "      <td>6.002249e-04</td>\n",
              "    </tr>\n",
              "    <tr>\n",
              "      <th>15</th>\n",
              "      <td>Family</td>\n",
              "      <td>9.939784e-03</td>\n",
              "    </tr>\n",
              "    <tr>\n",
              "      <th>16</th>\n",
              "      <td>Action</td>\n",
              "      <td>3.462504e-03</td>\n",
              "    </tr>\n",
              "    <tr>\n",
              "      <th>17</th>\n",
              "      <td>Adventure</td>\n",
              "      <td>9.473475e-03</td>\n",
              "    </tr>\n",
              "    <tr>\n",
              "      <th>18</th>\n",
              "      <td>TV_Movie</td>\n",
              "      <td>7.218258e-06</td>\n",
              "    </tr>\n",
              "    <tr>\n",
              "      <th>19</th>\n",
              "      <td>Music</td>\n",
              "      <td>1.432693e-03</td>\n",
              "    </tr>\n",
              "    <tr>\n",
              "      <th>20</th>\n",
              "      <td>Romance</td>\n",
              "      <td>6.006122e-03</td>\n",
              "    </tr>\n",
              "    <tr>\n",
              "      <th>21</th>\n",
              "      <td>Crime</td>\n",
              "      <td>2.425900e-03</td>\n",
              "    </tr>\n",
              "    <tr>\n",
              "      <th>22</th>\n",
              "      <td>Drama</td>\n",
              "      <td>3.912752e-03</td>\n",
              "    </tr>\n",
              "    <tr>\n",
              "      <th>23</th>\n",
              "      <td>History</td>\n",
              "      <td>8.091319e-04</td>\n",
              "    </tr>\n",
              "    <tr>\n",
              "      <th>24</th>\n",
              "      <td>Science_Fiction</td>\n",
              "      <td>4.782516e-03</td>\n",
              "    </tr>\n",
              "    <tr>\n",
              "      <th>25</th>\n",
              "      <td>Comedy</td>\n",
              "      <td>4.765988e-03</td>\n",
              "    </tr>\n",
              "    <tr>\n",
              "      <th>26</th>\n",
              "      <td>Foreign</td>\n",
              "      <td>1.275581e-07</td>\n",
              "    </tr>\n",
              "  </tbody>\n",
              "</table>\n",
              "</div>"
            ],
            "text/plain": [
              "            feature    importance\n",
              "0             adult  0.000000e+00\n",
              "1            sequel  1.821990e-02\n",
              "2            budget  3.340029e-01\n",
              "3        popularity  6.786840e-02\n",
              "4        vote_total  4.722042e-01\n",
              "5           runtime  4.048846e-02\n",
              "6             video  0.000000e+00\n",
              "7       Documentary  5.667401e-05\n",
              "8           Mystery  1.820843e-03\n",
              "9           Fantasy  5.661089e-03\n",
              "10           Horror  1.298609e-03\n",
              "11         Thriller  4.751042e-03\n",
              "12        Animation  5.562559e-03\n",
              "13          Western  4.469433e-04\n",
              "14              War  6.002249e-04\n",
              "15           Family  9.939784e-03\n",
              "16           Action  3.462504e-03\n",
              "17        Adventure  9.473475e-03\n",
              "18         TV_Movie  7.218258e-06\n",
              "19            Music  1.432693e-03\n",
              "20          Romance  6.006122e-03\n",
              "21            Crime  2.425900e-03\n",
              "22            Drama  3.912752e-03\n",
              "23          History  8.091319e-04\n",
              "24  Science_Fiction  4.782516e-03\n",
              "25           Comedy  4.765988e-03\n",
              "26          Foreign  1.275581e-07"
            ]
          },
          "metadata": {
            "tags": []
          },
          "execution_count": 190
        }
      ]
    },
    {
      "cell_type": "markdown",
      "metadata": {
        "id": "sHQnv06lfjRE",
        "colab_type": "text"
      },
      "source": [
        "# NEURAL NETWORK REGRESSION CODE"
      ]
    },
    {
      "cell_type": "markdown",
      "metadata": {
        "id": "_yalIbgObhH5",
        "colab_type": "text"
      },
      "source": [
        "\n",
        "\n",
        "---\n",
        "\n",
        "\n",
        "\n",
        "---\n",
        "Neural Network Regression\n",
        "\n",
        "\n",
        "---\n",
        "\n",
        "\n",
        "\n",
        "---\n",
        "\n",
        "\n"
      ]
    },
    {
      "cell_type": "code",
      "metadata": {
        "id": "YqVsBj7eoF8z",
        "colab_type": "code",
        "colab": {}
      },
      "source": [
        "import tensorflow as tf\n",
        "from tensorflow import keras\n",
        "from keras.models import Sequential\n",
        "from keras.layers import Dense, Activation\n",
        "from sklearn.model_selection import train_test_split\n",
        "from sklearn.preprocessing import MinMaxScaler\n",
        "from ast import literal_eval\n",
        "\n",
        "data = readData()\n",
        "data.adult = data.adult.astype(int)\n",
        "data.video = data.video.astype(int)\n",
        "data['release_date'] = pd.to_datetime(data['release_date'],format='%m/%d/%Y')"
      ],
      "execution_count": 0,
      "outputs": []
    },
    {
      "cell_type": "code",
      "metadata": {
        "id": "j65ZDhpmvw_J",
        "colab_type": "code",
        "colab": {}
      },
      "source": [
        "feature_cols = ['adult','sequel','budget','vote_average','popularity', 'vote_count', 'vote_total',\n",
        "                # 'production_companies', 'production_countries','release_date', 'spoken_languages',\n",
        "                'runtime','video','Documentary', 'Mystery', 'Fantasy',\n",
        "               'Horror', 'Thriller', 'Animation', 'Western', 'War', \n",
        "                'Family', 'Action','Adventure', 'TV_Movie', 'Music', \n",
        "                'Romance', 'Crime', 'Drama','History', 'Science_Fiction',\n",
        "                'Comedy', 'Foreign']\n",
        "\n",
        "X_train_full, X_test, y_train_full, y_test = train_test_split(data[feature_cols], data.revenue, test_size=0.2, random_state=42)\n",
        "X_train, X_valid, y_train, y_valid = train_test_split(X_train_full, y_train_full,test_size=0.2, random_state=42)\n",
        "\n",
        "scaler = MinMaxScaler()\n",
        "X_train = scaler.fit_transform(X_train)\n",
        "X_valid = scaler.transform(X_valid)\n",
        "X_test = scaler.transform(X_test)"
      ],
      "execution_count": 0,
      "outputs": []
    },
    {
      "cell_type": "code",
      "metadata": {
        "id": "u-0HGVqJzGk3",
        "colab_type": "code",
        "colab": {}
      },
      "source": [
        "np.random.seed(42)\n",
        "tf.random.set_random_seed(5)"
      ],
      "execution_count": 0,
      "outputs": []
    },
    {
      "cell_type": "code",
      "metadata": {
        "id": "r4MCXbavogWw",
        "colab_type": "code",
        "colab": {}
      },
      "source": [
        "from keras import backend as K\n",
        "\n",
        "def coeff_determination(y_true, y_pred):\n",
        "    SS_res =  K.sum(K.square( y_true-y_pred )) \n",
        "    SS_tot = K.sum(K.square( y_true - K.mean(y_true) ) ) \n",
        "    return ( 1 - SS_res/(SS_tot + K.epsilon()) )"
      ],
      "execution_count": 0,
      "outputs": []
    },
    {
      "cell_type": "markdown",
      "metadata": {
        "id": "HuKWSq6ZZFla",
        "colab_type": "text"
      },
      "source": [
        "Sometimes the neural network might stop after only two epochs, if this happens kindly re-execute the cell to get the proper output"
      ]
    },
    {
      "cell_type": "code",
      "metadata": {
        "id": "Kxg55O7Lsczd",
        "colab_type": "code",
        "outputId": "cbc8d520-071f-4e1c-a694-9db4494cc986",
        "colab": {
          "base_uri": "https://localhost:8080/",
          "height": 1000
        }
      },
      "source": [
        "import tensorflow as tf\n",
        "from tensorflow import keras\n",
        "from keras.models import Sequential\n",
        "from keras.layers import Dense, Activation, Dropout\n",
        "\n",
        "es = keras.callbacks.EarlyStopping(monitor='val_loss', mode='min', verbose=1)\n",
        "model = Sequential()\n",
        "model.add(Dense(25, input_shape=X_train.shape[1:]))\n",
        "model.add(Activation(\"relu\"))\n",
        "model.add(Dropout(0.2))\n",
        "model.add(Dense(20))\n",
        "model.add(Activation(\"relu\"))\n",
        "model.add(Dropout(0.15))\n",
        "model.add(Dense(15))\n",
        "model.add(Activation(\"relu\"))\n",
        "model.add(Dropout(0.15))\n",
        "model.add(Dense(10))\n",
        "model.add(Activation(\"relu\"))\n",
        "model.add(Dropout(0.15))\n",
        "model.add(Dense(8))\n",
        "model.add(Activation(\"relu\"))\n",
        "model.add(Dropout(0.15))\n",
        "model.add(Dense(3))\n",
        "model.add(Activation(\"relu\"))\n",
        "model.add(Dropout(0.15))\n",
        "model.add(Dense(1))\n",
        "model.add(Activation(\"relu\"))\n",
        "\n",
        "model.compile(loss='mean_squared_error', optimizer='adam', metrics=[coeff_determination])\n",
        "\n",
        "history = model.fit(X_train, y_train, epochs=100, validation_data=(X_valid, y_valid), callbacks=[es])\n",
        "mse_test = model.evaluate(X_test, y_test)\n",
        "X_new = X_test\n",
        "y_pred = model.predict(X_new)\n",
        "print(mse_test)\n",
        "plt.plot(y_test.values, color = 'red', label = 'Real data')\n",
        "plt.plot(y_pred.flatten(), color = 'blue', label = 'Predicted data')\n",
        "plt.title('Prediction')\n",
        "plt.legend()\n",
        "plt.show()"
      ],
      "execution_count": 0,
      "outputs": [
        {
          "output_type": "stream",
          "text": [
            "Train on 3414 samples, validate on 854 samples\n",
            "Epoch 1/100\n",
            "3414/3414 [==============================] - 8s 2ms/step - loss: 36579259411584208.0000 - coeff_determination: -0.4733 - val_loss: 33747878707537040.0000 - val_coeff_determination: -0.4343\n",
            "Epoch 2/100\n",
            "3414/3414 [==============================] - 0s 106us/step - loss: 36579127198551696.0000 - coeff_determination: -0.4615 - val_loss: 33747325052808176.0000 - val_coeff_determination: -0.4342\n",
            "Epoch 3/100\n",
            "3414/3414 [==============================] - 0s 112us/step - loss: 36574006392327280.0000 - coeff_determination: -0.4625 - val_loss: 33731345292539228.0000 - val_coeff_determination: -0.4333\n",
            "Epoch 4/100\n",
            "3414/3414 [==============================] - 0s 106us/step - loss: 36500999740629032.0000 - coeff_determination: -0.4362 - val_loss: 33563456967252804.0000 - val_coeff_determination: -0.4232\n",
            "Epoch 5/100\n",
            "3414/3414 [==============================] - 0s 106us/step - loss: 36069279788010472.0000 - coeff_determination: -0.4371 - val_loss: 32684193758173904.0000 - val_coeff_determination: -0.3710\n",
            "Epoch 6/100\n",
            "3414/3414 [==============================] - 0s 109us/step - loss: 34287289304706848.0000 - coeff_determination: -0.3169 - val_loss: 29673579942409908.0000 - val_coeff_determination: -0.2018\n",
            "Epoch 7/100\n",
            "3414/3414 [==============================] - 0s 112us/step - loss: 30130240285058044.0000 - coeff_determination: -0.1293 - val_loss: 25071830955432776.0000 - val_coeff_determination: 0.0020\n",
            "Epoch 8/100\n",
            "3414/3414 [==============================] - 0s 113us/step - loss: 27716987419133996.0000 - coeff_determination: -0.0640 - val_loss: 23143156480828756.0000 - val_coeff_determination: 0.0334\n",
            "Epoch 9/100\n",
            "3414/3414 [==============================] - 0s 110us/step - loss: 25952317663335476.0000 - coeff_determination: -0.0021 - val_loss: 22356564768961960.0000 - val_coeff_determination: 0.0300\n",
            "Epoch 10/100\n",
            "3414/3414 [==============================] - 0s 109us/step - loss: 26597439673939724.0000 - coeff_determination: -0.0407 - val_loss: 22046730644979020.0000 - val_coeff_determination: 0.0440\n",
            "Epoch 11/100\n",
            "3414/3414 [==============================] - 0s 109us/step - loss: 25994049543230920.0000 - coeff_determination: -0.0258 - val_loss: 21686685567109260.0000 - val_coeff_determination: 0.0523\n",
            "Epoch 12/100\n",
            "3414/3414 [==============================] - 0s 110us/step - loss: 25116449385573104.0000 - coeff_determination: 0.0151 - val_loss: 21318105091679532.0000 - val_coeff_determination: 0.0582\n",
            "Epoch 13/100\n",
            "3414/3414 [==============================] - 0s 111us/step - loss: 25349431627679580.0000 - coeff_determination: -0.0743 - val_loss: 21024456357068684.0000 - val_coeff_determination: 0.0691\n",
            "Epoch 14/100\n",
            "3414/3414 [==============================] - 0s 112us/step - loss: 25170875464644180.0000 - coeff_determination: -0.0302 - val_loss: 20765823242314360.0000 - val_coeff_determination: 0.0820\n",
            "Epoch 15/100\n",
            "3414/3414 [==============================] - 0s 107us/step - loss: 25109445943210960.0000 - coeff_determination: -0.0118 - val_loss: 20443504224249440.0000 - val_coeff_determination: 0.0894\n",
            "Epoch 16/100\n",
            "3414/3414 [==============================] - 0s 106us/step - loss: 24761803138137960.0000 - coeff_determination: 0.0079 - val_loss: 20200931990078744.0000 - val_coeff_determination: 0.1023\n",
            "Epoch 17/100\n",
            "3414/3414 [==============================] - 0s 113us/step - loss: 23946816171752100.0000 - coeff_determination: 0.0359 - val_loss: 19836235569498672.0000 - val_coeff_determination: 0.1083\n",
            "Epoch 18/100\n",
            "3414/3414 [==============================] - 0s 107us/step - loss: 23550746521578328.0000 - coeff_determination: 0.0610 - val_loss: 19467564198177348.0000 - val_coeff_determination: 0.1144\n",
            "Epoch 19/100\n",
            "3414/3414 [==============================] - 0s 111us/step - loss: 23891317008500300.0000 - coeff_determination: 0.0460 - val_loss: 19197633016044588.0000 - val_coeff_determination: 0.1252\n",
            "Epoch 20/100\n",
            "3414/3414 [==============================] - 0s 114us/step - loss: 23650130343801536.0000 - coeff_determination: 0.0452 - val_loss: 18913451016751280.0000 - val_coeff_determination: 0.1347\n",
            "Epoch 21/100\n",
            "3414/3414 [==============================] - 0s 108us/step - loss: 23547045532596700.0000 - coeff_determination: 0.0527 - val_loss: 18640303081394376.0000 - val_coeff_determination: 0.1430\n",
            "Epoch 22/100\n",
            "3414/3414 [==============================] - 0s 110us/step - loss: 23299825190529236.0000 - coeff_determination: 0.0292 - val_loss: 18369299403430764.0000 - val_coeff_determination: 0.1524\n",
            "Epoch 23/100\n",
            "3414/3414 [==============================] - 0s 111us/step - loss: 22469963666075052.0000 - coeff_determination: 0.0369 - val_loss: 18007232354033990.0000 - val_coeff_determination: 0.1554\n",
            "Epoch 24/100\n",
            "3414/3414 [==============================] - 0s 115us/step - loss: 21760658100741164.0000 - coeff_determination: 0.0943 - val_loss: 17757490822400290.0000 - val_coeff_determination: 0.1661\n",
            "Epoch 25/100\n",
            "3414/3414 [==============================] - 0s 114us/step - loss: 21962318434911004.0000 - coeff_determination: 0.0384 - val_loss: 17498569817848936.0000 - val_coeff_determination: 0.1732\n",
            "Epoch 26/100\n",
            "3414/3414 [==============================] - 0s 120us/step - loss: 21767845227808920.0000 - coeff_determination: 0.1258 - val_loss: 17163123552857566.0000 - val_coeff_determination: 0.1738\n",
            "Epoch 27/100\n",
            "3414/3414 [==============================] - 0s 111us/step - loss: 20903923450892444.0000 - coeff_determination: 0.1087 - val_loss: 16890151333967118.0000 - val_coeff_determination: 0.1789\n",
            "Epoch 28/100\n",
            "3414/3414 [==============================] - 0s 112us/step - loss: 21289194071306488.0000 - coeff_determination: 0.0786 - val_loss: 16660449672134580.0000 - val_coeff_determination: 0.1858\n",
            "Epoch 29/100\n",
            "3414/3414 [==============================] - 0s 109us/step - loss: 21617365470419860.0000 - coeff_determination: 0.1343 - val_loss: 16532385708147686.0000 - val_coeff_determination: 0.1983\n",
            "Epoch 30/100\n",
            "3414/3414 [==============================] - 0s 116us/step - loss: 21163822174100600.0000 - coeff_determination: 0.1117 - val_loss: 16283805616892984.0000 - val_coeff_determination: 0.2030\n",
            "Epoch 31/100\n",
            "3414/3414 [==============================] - 0s 113us/step - loss: 21101966555491200.0000 - coeff_determination: 0.1084 - val_loss: 16111644172567794.0000 - val_coeff_determination: 0.2102\n",
            "Epoch 32/100\n",
            "3414/3414 [==============================] - 0s 106us/step - loss: 20732993884810004.0000 - coeff_determination: 0.0995 - val_loss: 15955762821895038.0000 - val_coeff_determination: 0.2179\n",
            "Epoch 33/100\n",
            "3414/3414 [==============================] - 0s 118us/step - loss: 19796351190405768.0000 - coeff_determination: -0.0163 - val_loss: 15636779479619160.0000 - val_coeff_determination: 0.2178\n",
            "Epoch 34/100\n",
            "3414/3414 [==============================] - 0s 114us/step - loss: 19273140029695012.0000 - coeff_determination: 0.2118 - val_loss: 15353970095797672.0000 - val_coeff_determination: 0.2193\n",
            "Epoch 35/100\n",
            "3414/3414 [==============================] - 0s 111us/step - loss: 19872097721759672.0000 - coeff_determination: 0.1581 - val_loss: 15228161153091340.0000 - val_coeff_determination: 0.2306\n",
            "Epoch 36/100\n",
            "3414/3414 [==============================] - 0s 110us/step - loss: 19870789309791544.0000 - coeff_determination: 0.1526 - val_loss: 15030685131289640.0000 - val_coeff_determination: 0.2363\n",
            "Epoch 37/100\n",
            "3414/3414 [==============================] - 0s 108us/step - loss: 19404421437381520.0000 - coeff_determination: 0.1324 - val_loss: 14849261724522686.0000 - val_coeff_determination: 0.2448\n",
            "Epoch 38/100\n",
            "3414/3414 [==============================] - 0s 110us/step - loss: 19107957911415380.0000 - coeff_determination: 0.1575 - val_loss: 14611226806458366.0000 - val_coeff_determination: 0.2487\n",
            "Epoch 39/100\n",
            "3414/3414 [==============================] - 0s 114us/step - loss: 18853357574471516.0000 - coeff_determination: 0.1505 - val_loss: 14388370856034036.0000 - val_coeff_determination: 0.2558\n",
            "Epoch 40/100\n",
            "3414/3414 [==============================] - 0s 108us/step - loss: 18535210402578816.0000 - coeff_determination: 0.1558 - val_loss: 14149802305885512.0000 - val_coeff_determination: 0.2620\n",
            "Epoch 41/100\n",
            "3414/3414 [==============================] - 0s 113us/step - loss: 18073444802437720.0000 - coeff_determination: 0.1404 - val_loss: 13929757348690970.0000 - val_coeff_determination: 0.2704\n",
            "Epoch 42/100\n",
            "3414/3414 [==============================] - 0s 112us/step - loss: 18527352507672664.0000 - coeff_determination: 0.1647 - val_loss: 13794297706254078.0000 - val_coeff_determination: 0.2836\n",
            "Epoch 43/100\n",
            "3414/3414 [==============================] - 0s 117us/step - loss: 17454301676164842.0000 - coeff_determination: 0.2522 - val_loss: 13526247861872876.0000 - val_coeff_determination: 0.2878\n",
            "Epoch 44/100\n",
            "3414/3414 [==============================] - 0s 110us/step - loss: 17468483623894494.0000 - coeff_determination: 0.1243 - val_loss: 13295246523574008.0000 - val_coeff_determination: 0.2960\n",
            "Epoch 45/100\n",
            "3414/3414 [==============================] - 0s 111us/step - loss: 18688672913167768.0000 - coeff_determination: 0.1792 - val_loss: 13240816692212856.0000 - val_coeff_determination: 0.3144\n",
            "Epoch 46/100\n",
            "3414/3414 [==============================] - 0s 112us/step - loss: 17274112334202500.0000 - coeff_determination: 0.1570 - val_loss: 13023214637229202.0000 - val_coeff_determination: 0.3254\n",
            "Epoch 47/100\n",
            "3414/3414 [==============================] - 0s 108us/step - loss: 17864094734729552.0000 - coeff_determination: 0.2493 - val_loss: 12763579854627832.0000 - val_coeff_determination: 0.3333\n",
            "Epoch 48/100\n",
            "3414/3414 [==============================] - 0s 111us/step - loss: 16669787453680326.0000 - coeff_determination: 0.3026 - val_loss: 12449822808604366.0000 - val_coeff_determination: 0.3395\n",
            "Epoch 49/100\n",
            "3414/3414 [==============================] - 0s 111us/step - loss: 17201832331779698.0000 - coeff_determination: 0.1895 - val_loss: 12224116317555250.0000 - val_coeff_determination: 0.3523\n",
            "Epoch 50/100\n",
            "3414/3414 [==============================] - 0s 116us/step - loss: 17213846536925834.0000 - coeff_determination: 0.2322 - val_loss: 11988559205854954.0000 - val_coeff_determination: 0.3651\n",
            "Epoch 51/100\n",
            "3414/3414 [==============================] - 0s 114us/step - loss: 16755423035896246.0000 - coeff_determination: 0.2286 - val_loss: 11756701154855282.0000 - val_coeff_determination: 0.3766\n",
            "Epoch 52/100\n",
            "3414/3414 [==============================] - 0s 117us/step - loss: 14378318367821722.0000 - coeff_determination: 0.2796 - val_loss: 11574191496040496.0000 - val_coeff_determination: 0.3902\n",
            "Epoch 53/100\n",
            "3414/3414 [==============================] - 0s 116us/step - loss: 16075890397725966.0000 - coeff_determination: 0.1797 - val_loss: 11352914879020672.0000 - val_coeff_determination: 0.4014\n",
            "Epoch 54/100\n",
            "3414/3414 [==============================] - 0s 107us/step - loss: 16244099596123758.0000 - coeff_determination: 0.2682 - val_loss: 11081516712837236.0000 - val_coeff_determination: 0.4136\n",
            "Epoch 55/100\n",
            "3414/3414 [==============================] - 0s 113us/step - loss: 15012376577896744.0000 - coeff_determination: 0.3083 - val_loss: 10789924129696592.0000 - val_coeff_determination: 0.4249\n",
            "Epoch 56/100\n",
            "3414/3414 [==============================] - 0s 111us/step - loss: 14554106331339480.0000 - coeff_determination: 0.2117 - val_loss: 10523089232990410.0000 - val_coeff_determination: 0.4370\n",
            "Epoch 57/100\n",
            "3414/3414 [==============================] - 0s 107us/step - loss: 16126546791927034.0000 - coeff_determination: 0.2490 - val_loss: 10430447161836440.0000 - val_coeff_determination: 0.4539\n",
            "Epoch 58/100\n",
            "3414/3414 [==============================] - 0s 111us/step - loss: 15199594855884014.0000 - coeff_determination: 0.3533 - val_loss: 10187378686691736.0000 - val_coeff_determination: 0.4669\n",
            "Epoch 59/100\n",
            "3414/3414 [==============================] - 0s 109us/step - loss: 14236736469899512.0000 - coeff_determination: 0.3297 - val_loss: 9789600969519516.0000 - val_coeff_determination: 0.4765\n",
            "Epoch 60/100\n",
            "3414/3414 [==============================] - 0s 111us/step - loss: 13740978989866820.0000 - coeff_determination: 0.3760 - val_loss: 9646539612161382.0000 - val_coeff_determination: 0.4913\n",
            "Epoch 61/100\n",
            "3414/3414 [==============================] - 0s 112us/step - loss: 13044938693643628.0000 - coeff_determination: 0.4039 - val_loss: 9408026475389216.0000 - val_coeff_determination: 0.5029\n",
            "Epoch 62/100\n",
            "3414/3414 [==============================] - 0s 106us/step - loss: 15721253281184976.0000 - coeff_determination: 0.3249 - val_loss: 9287114539727208.0000 - val_coeff_determination: 0.5155\n",
            "Epoch 63/100\n",
            "3414/3414 [==============================] - 0s 113us/step - loss: 13437714465589446.0000 - coeff_determination: 0.3184 - val_loss: 9190382254036066.0000 - val_coeff_determination: 0.5279\n",
            "Epoch 64/100\n",
            "3414/3414 [==============================] - 0s 113us/step - loss: 15605078434339978.0000 - coeff_determination: 0.3740 - val_loss: 8899942262334188.0000 - val_coeff_determination: 0.5363\n",
            "Epoch 65/100\n",
            "3414/3414 [==============================] - 0s 113us/step - loss: 12790012473382834.0000 - coeff_determination: 0.3910 - val_loss: 8708148760130371.0000 - val_coeff_determination: 0.5471\n",
            "Epoch 66/100\n",
            "3414/3414 [==============================] - 0s 110us/step - loss: 12334912688117808.0000 - coeff_determination: 0.4073 - val_loss: 8412299446972828.0000 - val_coeff_determination: 0.5559\n",
            "Epoch 67/100\n",
            "3414/3414 [==============================] - 0s 112us/step - loss: 12259052768180534.0000 - coeff_determination: 0.4261 - val_loss: 8248102886223325.0000 - val_coeff_determination: 0.5659\n",
            "Epoch 68/100\n",
            "3414/3414 [==============================] - 0s 112us/step - loss: 12575299325836458.0000 - coeff_determination: 0.4209 - val_loss: 8142385733890307.0000 - val_coeff_determination: 0.5765\n",
            "Epoch 69/100\n",
            "3414/3414 [==============================] - 0s 108us/step - loss: 13365323391903064.0000 - coeff_determination: 0.4364 - val_loss: 8107335311722673.0000 - val_coeff_determination: 0.5851\n",
            "Epoch 70/100\n",
            "3414/3414 [==============================] - 0s 110us/step - loss: 12751940176260620.0000 - coeff_determination: 0.4621 - val_loss: 7850363630131196.0000 - val_coeff_determination: 0.5945\n",
            "Epoch 71/100\n",
            "3414/3414 [==============================] - 0s 108us/step - loss: 12610680449634874.0000 - coeff_determination: 0.4322 - val_loss: 7514999806886195.0000 - val_coeff_determination: 0.6001\n",
            "Epoch 72/100\n",
            "3414/3414 [==============================] - 0s 111us/step - loss: 12079745895435224.0000 - coeff_determination: 0.4578 - val_loss: 7594370178891047.0000 - val_coeff_determination: 0.6086\n",
            "Epoch 00072: early stopping\n",
            "1068/1068 [==============================] - 0s 66us/step\n",
            "[8889029403104352.0, 0.534973010588228]\n"
          ],
          "name": "stdout"
        },
        {
          "output_type": "display_data",
          "data": {
            "image/png": "[encoded data removed]",
            "text/plain": [
              "<Figure size 432x288 with 1 Axes>"
            ]
          },
          "metadata": {
            "tags": []
          }
        }
      ]
    },
    {
      "cell_type": "code",
      "metadata": {
        "id": "W0NoaM1QWdyD",
        "colab_type": "code",
        "outputId": "b38596e7-3b3f-4423-86c6-a759fe94e964",
        "colab": {
          "base_uri": "https://localhost:8080/",
          "height": 34
        }
      },
      "source": [
        "print(\"Neural Network R-Square = \",r2_score(y_test.values,y_pred.flatten()))"
      ],
      "execution_count": 0,
      "outputs": [
        {
          "output_type": "stream",
          "text": [
            "Neural Network R-Square =  0.6731840960929492\n"
          ],
          "name": "stdout"
        }
      ]
    },
    {
      "cell_type": "code",
      "metadata": {
        "id": "1AugRap0lEl6",
        "colab_type": "code",
        "outputId": "0e107625-5ffb-48d4-84ce-a35657f02966",
        "colab": {
          "base_uri": "https://localhost:8080/",
          "height": 295
        }
      },
      "source": [
        "plt.plot(history.history['loss'])\n",
        "plt.plot(history.history['val_loss'])\n",
        "plt.title('Model loss')\n",
        "plt.ylabel('Loss')\n",
        "plt.xlabel('Epoch')\n",
        "plt.legend(['Train', 'Test'], loc='upper right')\n",
        "plt.show()"
      ],
      "execution_count": 0,
      "outputs": [
        {
          "output_type": "display_data",
          "data": {
            "image/png": "[encoded data removed]",
            "text/plain": [
              "<Figure size 432x288 with 1 Axes>"
            ]
          },
          "metadata": {
            "tags": []
          }
        }
      ]
    },
    {
      "cell_type": "code",
      "metadata": {
        "id": "Ojb8pn7VpP4U",
        "colab_type": "code",
        "outputId": "b8f61ffa-4860-4116-f80e-9365f8063b87",
        "colab": {
          "base_uri": "https://localhost:8080/",
          "height": 281
        }
      },
      "source": [
        "plt.plot(y_test.values[:10], color = 'red', label = 'Real data')\n",
        "plt.plot(y_pred.flatten()[:10], color = 'blue', label = 'Predicted data')\n",
        "plt.title('Prediction')\n",
        "plt.legend()\n",
        "plt.show()"
      ],
      "execution_count": 0,
      "outputs": [
        {
          "output_type": "display_data",
          "data": {
            "image/png": "[encoded data removed]",
            "text/plain": [
              "<Figure size 432x288 with 1 Axes>"
            ]
          },
          "metadata": {
            "tags": []
          }
        }
      ]
    },
    {
      "cell_type": "markdown",
      "metadata": {
        "id": "n8ouDXVkftK8",
        "colab_type": "text"
      },
      "source": [
        "# NLP - SUPPORT VECTOR CLASSIFIER CODE"
      ]
    },
    {
      "cell_type": "markdown",
      "metadata": {
        "id": "uCkmN5jZ7nPZ",
        "colab_type": "text"
      },
      "source": [
        "\n",
        "\n",
        "---\n",
        "\n",
        "\n",
        "\n",
        "---\n",
        "NLP - Support Vector Classifier\n",
        "\n",
        "\n",
        "---\n",
        "\n",
        "\n",
        "\n",
        "---\n",
        "\n",
        "\n"
      ]
    },
    {
      "cell_type": "code",
      "metadata": {
        "id": "Vn-TUE-A-L62",
        "colab_type": "code",
        "outputId": "ff59f954-9396-42c6-d059-60af0b659b7b",
        "colab": {
          "base_uri": "https://localhost:8080/",
          "height": 272
        }
      },
      "source": [
        "!pip install eli5"
      ],
      "execution_count": 0,
      "outputs": [
        {
          "output_type": "stream",
          "text": [
            "Collecting eli5\n",
            "\u001b[?25l  Downloading https://files.pythonhosted.org/packages/97/2f/c85c7d8f8548e460829971785347e14e45fa5c6617da374711dec8cb38cc/eli5-0.10.1-py2.py3-none-any.whl (105kB)\n",
            "\u001b[K     |████████████████████████████████| 112kB 2.8MB/s \n",
            "\u001b[?25hRequirement already satisfied: attrs>16.0.0 in /usr/local/lib/python3.6/dist-packages (from eli5) (19.3.0)\n",
            "Requirement already satisfied: jinja2 in /usr/local/lib/python3.6/dist-packages (from eli5) (2.11.1)\n",
            "Requirement already satisfied: scipy in /usr/local/lib/python3.6/dist-packages (from eli5) (1.4.1)\n",
            "Requirement already satisfied: scikit-learn>=0.18 in /usr/local/lib/python3.6/dist-packages (from eli5) (0.22.1)\n",
            "Requirement already satisfied: tabulate>=0.7.7 in /usr/local/lib/python3.6/dist-packages (from eli5) (0.8.6)\n",
            "Requirement already satisfied: six in /usr/local/lib/python3.6/dist-packages (from eli5) (1.12.0)\n",
            "Requirement already satisfied: numpy>=1.9.0 in /usr/local/lib/python3.6/dist-packages (from eli5) (1.17.5)\n",
            "Requirement already satisfied: graphviz in /usr/local/lib/python3.6/dist-packages (from eli5) (0.10.1)\n",
            "Requirement already satisfied: MarkupSafe>=0.23 in /usr/local/lib/python3.6/dist-packages (from jinja2->eli5) (1.1.1)\n",
            "Requirement already satisfied: joblib>=0.11 in /usr/local/lib/python3.6/dist-packages (from scikit-learn>=0.18->eli5) (0.14.1)\n",
            "Installing collected packages: eli5\n",
            "Successfully installed eli5-0.10.1\n"
          ],
          "name": "stdout"
        }
      ]
    },
    {
      "cell_type": "code",
      "metadata": {
        "id": "3I9Tpqun9pEY",
        "colab_type": "code",
        "colab": {}
      },
      "source": [
        "import pandas as pd\n",
        "import numpy as np\n",
        "import spacy"
      ],
      "execution_count": 0,
      "outputs": []
    },
    {
      "cell_type": "code",
      "metadata": {
        "id": "XJeTeGTE9sL2",
        "colab_type": "code",
        "colab": {}
      },
      "source": [
        "from spacy.lang.en.stop_words import STOP_WORDS\n",
        "nlp = spacy.load('en_core_web_sm')\n",
        "\n",
        "# Use the punctuations of string module\n",
        "import string\n",
        "punctuations = string.punctuation\n",
        "\n",
        "# Creating a Spacy Parser\n",
        "from spacy.lang.en import English\n",
        "parser = English()\n",
        "# Build a list of stopwords to use to filter\n",
        "stopwords = list(STOP_WORDS)"
      ],
      "execution_count": 0,
      "outputs": []
    },
    {
      "cell_type": "code",
      "metadata": {
        "id": "GoMxfl-X99mQ",
        "colab_type": "code",
        "outputId": "8de7d1f4-2792-4547-b510-cf74bd50239b",
        "colab": {
          "base_uri": "https://localhost:8080/",
          "height": 105
        }
      },
      "source": [
        "from sklearn.feature_extraction.text import CountVectorizer,TfidfVectorizer\n",
        "from sklearn.metrics import accuracy_score \n",
        "from sklearn.base import TransformerMixin \n",
        "from sklearn.pipeline import Pipeline\n",
        "from sklearn.svm import LinearSVC\n",
        "from sklearn.svm import SVC\n",
        "from sklearn.model_selection import train_test_split\n",
        "import eli5"
      ],
      "execution_count": 0,
      "outputs": [
        {
          "output_type": "stream",
          "text": [
            "/usr/local/lib/python3.6/dist-packages/sklearn/utils/deprecation.py:144: FutureWarning: The sklearn.metrics.scorer module is  deprecated in version 0.22 and will be removed in version 0.24. The corresponding classes / functions should instead be imported from sklearn.metrics. Anything that cannot be imported from sklearn.metrics is now part of the private API.\n",
            "  warnings.warn(message, FutureWarning)\n",
            "/usr/local/lib/python3.6/dist-packages/sklearn/utils/deprecation.py:144: FutureWarning: The sklearn.feature_selection.base module is  deprecated in version 0.22 and will be removed in version 0.24. The corresponding classes / functions should instead be imported from sklearn.feature_selection. Anything that cannot be imported from sklearn.feature_selection is now part of the private API.\n",
            "  warnings.warn(message, FutureWarning)\n"
          ],
          "name": "stderr"
        }
      ]
    },
    {
      "cell_type": "code",
      "metadata": {
        "id": "6XmYIefclHuU",
        "colab_type": "code",
        "colab": {}
      },
      "source": [
        "data = readData()\n",
        "data.genres = data.genres.apply(ast.literal_eval)\n",
        "genrelist = list(set(x for i in data.genres for x in i))\n",
        "genrelist[genrelist.index('TV Movie')] = 'TV_Movie'\n",
        "genrelist[genrelist.index('Science Fiction')] = 'Science_Fiction'\n",
        "data = categorizeRevenue(data)\n",
        "data.profit = data.profit.map({\"low-profit\":0,\"profit\":1,\"high-profit\":2})"
      ],
      "execution_count": 0,
      "outputs": []
    },
    {
      "cell_type": "code",
      "metadata": {
        "id": "pzwvoHka-0Er",
        "colab_type": "code",
        "colab": {}
      },
      "source": [
        "def spacy_tokenizer(sentence):\n",
        "    mytokens = parser(sentence)\n",
        "    mytokens = [ word.lemma_.lower().strip() if word.lemma_ != \"-PRON-\" else word.lower_ for word in mytokens ]\n",
        "    mytokens = [ word for word in mytokens if word not in stopwords and word not in punctuations ]\n",
        "    return mytokens"
      ],
      "execution_count": 0,
      "outputs": []
    },
    {
      "cell_type": "code",
      "metadata": {
        "id": "_pQtUNvM9QB4",
        "colab_type": "code",
        "colab": {}
      },
      "source": [
        "class predictors(TransformerMixin):\n",
        "    def transform(self, X, **transform_params):\n",
        "        return [clean_text(str(text)) for text in X]\n",
        "    def fit(self, X, y=None, **fit_params):\n",
        "        return self\n",
        "    def get_params(self, deep=True):\n",
        "        return {}"
      ],
      "execution_count": 0,
      "outputs": []
    },
    {
      "cell_type": "code",
      "metadata": {
        "id": "ZLQHiL-C9UEw",
        "colab_type": "code",
        "colab": {}
      },
      "source": [
        "# Basic function to clean the text \n",
        "def clean_text(text):\n",
        "    return text.strip().lower()"
      ],
      "execution_count": 0,
      "outputs": []
    },
    {
      "cell_type": "code",
      "metadata": {
        "id": "L19ZR01T-bba",
        "colab_type": "code",
        "colab": {}
      },
      "source": [
        "# Vectorization\n",
        "vectorizer = CountVectorizer(tokenizer = spacy_tokenizer, ngram_range=(1,1)) \n",
        "\n",
        "classifier = SVC(C=150, gamma=2e-2, probability=True)"
      ],
      "execution_count": 0,
      "outputs": []
    },
    {
      "cell_type": "code",
      "metadata": {
        "colab_type": "code",
        "id": "c8QszEGh_XBp",
        "colab": {}
      },
      "source": [
        "# Using Tfidf\n",
        "tfvectorizer = TfidfVectorizer(tokenizer = spacy_tokenizer)"
      ],
      "execution_count": 0,
      "outputs": []
    },
    {
      "cell_type": "code",
      "metadata": {
        "id": "nXYi6hD2_X1t",
        "colab_type": "code",
        "colab": {}
      },
      "source": [
        "# Features and Labels\n",
        "feature_cols = ['adult','sequel','budget','popularity','vote_total',\n",
        "                # 'production_companies', 'production_countries','release_date', 'spoken_languages',\n",
        "                'runtime','video','Documentary', 'Mystery', 'Fantasy',\n",
        "               'Horror', 'Thriller', 'Animation', 'Western', 'War', \n",
        "                'Family', 'Action','Adventure', 'TV_Movie', 'Music', \n",
        "                'Romance', 'Crime', 'Drama','History', 'Science_Fiction',\n",
        "                'Comedy', 'Foreign']\n",
        "X = data['overview']\n",
        "ylabels = data['profit']\n",
        "X_train, X_test, y_train, y_test = train_test_split(X, ylabels, test_size=0.2, random_state=42)"
      ],
      "execution_count": 0,
      "outputs": []
    },
    {
      "cell_type": "code",
      "metadata": {
        "id": "cvDWqEGbAG4X",
        "colab_type": "code",
        "colab": {}
      },
      "source": [
        "# Create the  pipeline to clean, tokenize, vectorize, and classify \n",
        "pipe = Pipeline([(\"cleaner\", predictors()),\n",
        "                 ('vectorizer', vectorizer),\n",
        "                 ('classifier', classifier)])"
      ],
      "execution_count": 0,
      "outputs": []
    },
    {
      "cell_type": "code",
      "metadata": {
        "id": "E4pqhtBFooYF",
        "colab_type": "code",
        "outputId": "a7960508-df89-4d91-b127-7fe7068d85fa",
        "colab": {
          "base_uri": "https://localhost:8080/",
          "height": 357
        }
      },
      "source": [
        "pipe.fit(X_train,y_train)"
      ],
      "execution_count": 0,
      "outputs": [
        {
          "output_type": "execute_result",
          "data": {
            "text/plain": [
              "Pipeline(memory=None,\n",
              "         steps=[('cleaner', <__main__.predictors object at 0x7fedffa9dda0>),\n",
              "                ('vectorizer',\n",
              "                 CountVectorizer(analyzer='word', binary=False,\n",
              "                                 decode_error='strict',\n",
              "                                 dtype=<class 'numpy.int64'>, encoding='utf-8',\n",
              "                                 input='content', lowercase=True, max_df=1.0,\n",
              "                                 max_features=None, min_df=1,\n",
              "                                 ngram_range=(1, 1), preprocessor=None,\n",
              "                                 stop_words=None, strip_accents=None,\n",
              "                                 token_pattern='(?u)\\\\b\\\\w\\\\w+\\\\b',\n",
              "                                 tokenizer=<function spacy_tokenizer at 0x7fee66328a60>,\n",
              "                                 vocabulary=None)),\n",
              "                ('classifier',\n",
              "                 SVC(C=150, break_ties=False, cache_size=200, class_weight=None,\n",
              "                     coef0=0.0, decision_function_shape='ovr', degree=3,\n",
              "                     gamma=0.02, kernel='rbf', max_iter=-1, probability=True,\n",
              "                     random_state=None, shrinking=True, tol=0.001,\n",
              "                     verbose=False))],\n",
              "         verbose=False)"
            ]
          },
          "metadata": {
            "tags": []
          },
          "execution_count": 236
        }
      ]
    },
    {
      "cell_type": "code",
      "metadata": {
        "id": "stRJqNDlAUnq",
        "colab_type": "code",
        "outputId": "52da3b9a-abc5-4326-fdb3-9d67175f15ef",
        "colab": {
          "base_uri": "https://localhost:8080/",
          "height": 34
        }
      },
      "source": [
        "X_test.shape"
      ],
      "execution_count": 0,
      "outputs": [
        {
          "output_type": "execute_result",
          "data": {
            "text/plain": [
              "(1068,)"
            ]
          },
          "metadata": {
            "tags": []
          },
          "execution_count": 237
        }
      ]
    },
    {
      "cell_type": "code",
      "metadata": {
        "id": "SQH_RY3UAVQf",
        "colab_type": "code",
        "outputId": "e578fe21-7d5a-4512-f630-b016c1763f57",
        "colab": {
          "base_uri": "https://localhost:8080/",
          "height": 34
        }
      },
      "source": [
        "X_test.values[1]"
      ],
      "execution_count": 0,
      "outputs": [
        {
          "output_type": "execute_result",
          "data": {
            "text/plain": [
              "'A young man is plunged into a life of subterfuge, deceit and mistaken identity in pursuit of a femme fatale whose heart is never quite within his grasp'"
            ]
          },
          "metadata": {
            "tags": []
          },
          "execution_count": 238
        }
      ]
    },
    {
      "cell_type": "code",
      "metadata": {
        "id": "I95e5i_hAasT",
        "colab_type": "code",
        "colab": {}
      },
      "source": [
        "# Predicting with a test dataset\n",
        "sample_prediction = pipe.predict(X_test)"
      ],
      "execution_count": 0,
      "outputs": []
    },
    {
      "cell_type": "code",
      "metadata": {
        "id": "pJsF5K0lAbaH",
        "colab_type": "code",
        "outputId": "2b79acdd-8c61-4856-8aaa-520f84856c12",
        "colab": {
          "base_uri": "https://localhost:8080/",
          "height": 34
        }
      },
      "source": [
        "sample_prediction[1:10]\n",
        "# rev_dic = {0:\"low-profit\",1:\"profit\",2:\"high-profit\"}\n",
        "# np.vectorize(dic.get)(sample_prediction[1:10])"
      ],
      "execution_count": 0,
      "outputs": [
        {
          "output_type": "execute_result",
          "data": {
            "text/plain": [
              "array([1, 1, 1, 1, 2, 2, 1, 1, 1])"
            ]
          },
          "metadata": {
            "tags": []
          },
          "execution_count": 240
        }
      ]
    },
    {
      "cell_type": "code",
      "metadata": {
        "id": "S92tHyqCAjAz",
        "colab_type": "code",
        "outputId": "186177a0-e46c-4395-cb6a-47b39ba99b17",
        "colab": {
          "base_uri": "https://localhost:8080/",
          "height": 34
        }
      },
      "source": [
        "y_test.values[1:10]"
      ],
      "execution_count": 0,
      "outputs": [
        {
          "output_type": "execute_result",
          "data": {
            "text/plain": [
              "array([1, 1, 1, 2, 1, 1, 1, 0, 1])"
            ]
          },
          "metadata": {
            "tags": []
          },
          "execution_count": 241
        }
      ]
    },
    {
      "cell_type": "code",
      "metadata": {
        "id": "6Fs-WoQXAlVS",
        "colab_type": "code",
        "outputId": "86b5aee1-928d-473c-936f-e909075d4b9c",
        "colab": {
          "base_uri": "https://localhost:8080/",
          "height": 34
        }
      },
      "source": [
        "print(\"Accuracy Score:\",pipe.score(X_test, y_test))"
      ],
      "execution_count": 0,
      "outputs": [
        {
          "output_type": "stream",
          "text": [
            "Accuracy Score: 0.44756554307116103\n"
          ],
          "name": "stdout"
        }
      ]
    },
    {
      "cell_type": "markdown",
      "metadata": {
        "id": "mBzU7lXcf0g4",
        "colab_type": "text"
      },
      "source": [
        "# LOGISTIC REGRESSION CODE"
      ]
    },
    {
      "cell_type": "markdown",
      "metadata": {
        "id": "omXmsclyvcjF",
        "colab_type": "text"
      },
      "source": [
        "\n",
        "\n",
        "---\n",
        "\n",
        "\n",
        "\n",
        "---\n",
        "\n",
        "Logistic Regression\n",
        "\n",
        "\n",
        "---\n",
        "\n",
        "\n",
        "\n",
        "---\n",
        "\n"
      ]
    },
    {
      "cell_type": "code",
      "metadata": {
        "id": "G1TAfKD1Y4nT",
        "colab_type": "code",
        "colab": {}
      },
      "source": [
        "data = readData()\n",
        "data.adult = data.adult.astype(int)\n",
        "data.video = data.video.astype(int)\n",
        "data.release_date = pd.to_datetime(data.release_date, format='%m/%d/%Y')\n",
        "mean = data.revenue.mean()"
      ],
      "execution_count": 0,
      "outputs": []
    },
    {
      "cell_type": "code",
      "metadata": {
        "id": "bhht-aV9cQap",
        "colab_type": "code",
        "colab": {}
      },
      "source": [
        "data = categorizeRevenue(data)"
      ],
      "execution_count": 0,
      "outputs": []
    },
    {
      "cell_type": "code",
      "metadata": {
        "id": "w8XC8pmhcsp8",
        "colab_type": "code",
        "colab": {}
      },
      "source": [
        "feature_cols = ['adult','sequel','budget','popularity','vote_total',\n",
        "                # 'production_companies', 'production_countries','release_date', 'spoken_languages',\n",
        "                'runtime','video','Documentary', 'Mystery', 'Fantasy',\n",
        "               'Horror', 'Thriller', 'Animation', 'Western', 'War', \n",
        "                'Family', 'Action','Adventure', 'TV_Movie', 'Music', \n",
        "                'Romance', 'Crime', 'Drama','History', 'Science_Fiction',\n",
        "                'Comedy', 'Foreign']\n",
        "data['profit'] = data.profit.map({'low-profit':0, 'profit':1, 'high-profit':2})             \n",
        "X = data[feature_cols]\n",
        "y = data.profit"
      ],
      "execution_count": 0,
      "outputs": []
    },
    {
      "cell_type": "code",
      "metadata": {
        "id": "2hSdQq84oU2d",
        "colab_type": "code",
        "colab": {}
      },
      "source": [
        "X_train, X_test, y_train, y_test = train_test_split(X, y, random_state=3)"
      ],
      "execution_count": 0,
      "outputs": []
    },
    {
      "cell_type": "code",
      "metadata": {
        "id": "M7Uyaj4XoXs-",
        "colab_type": "code",
        "outputId": "8b6249c9-13e2-47d3-e818-af22d370d5be",
        "colab": {
          "base_uri": "https://localhost:8080/",
          "height": 238
        }
      },
      "source": [
        "from sklearn.linear_model import LogisticRegression\n",
        "logreg = LogisticRegression(solver='newton-cg', max_iter=500) # Instatiate estimator\n",
        "logreg.fit(X_train, y_train) # Fit data"
      ],
      "execution_count": 0,
      "outputs": [
        {
          "output_type": "stream",
          "text": [
            "/usr/local/lib/python3.6/dist-packages/scipy/optimize/linesearch.py:466: LineSearchWarning: The line search algorithm did not converge\n",
            "  warn('The line search algorithm did not converge', LineSearchWarning)\n",
            "/usr/local/lib/python3.6/dist-packages/scipy/optimize/linesearch.py:314: LineSearchWarning: The line search algorithm did not converge\n",
            "  warn('The line search algorithm did not converge', LineSearchWarning)\n",
            "/usr/local/lib/python3.6/dist-packages/scipy/optimize/linesearch.py:426: LineSearchWarning: Rounding errors prevent the line search from converging\n",
            "  warn(msg, LineSearchWarning)\n",
            "/usr/local/lib/python3.6/dist-packages/sklearn/utils/optimize.py:204: UserWarning: Line Search failed\n",
            "  warnings.warn('Line Search failed')\n"
          ],
          "name": "stderr"
        },
        {
          "output_type": "execute_result",
          "data": {
            "text/plain": [
              "LogisticRegression(C=1.0, class_weight=None, dual=False, fit_intercept=True,\n",
              "                   intercept_scaling=1, l1_ratio=None, max_iter=500,\n",
              "                   multi_class='auto', n_jobs=None, penalty='l2',\n",
              "                   random_state=None, solver='newton-cg', tol=0.0001, verbose=0,\n",
              "                   warm_start=False)"
            ]
          },
          "metadata": {
            "tags": []
          },
          "execution_count": 247
        }
      ]
    },
    {
      "cell_type": "code",
      "metadata": {
        "id": "6U0AVEetpK6E",
        "colab_type": "code",
        "colab": {}
      },
      "source": [
        "y_pred = logreg.predict(X_test)"
      ],
      "execution_count": 0,
      "outputs": []
    },
    {
      "cell_type": "code",
      "metadata": {
        "id": "SxReMU6gpLeY",
        "colab_type": "code",
        "outputId": "4092d8ef-47bd-46e9-8883-2661309908c4",
        "colab": {
          "base_uri": "https://localhost:8080/",
          "height": 34
        }
      },
      "source": [
        "# Calculate accuracy of model\n",
        "print(\"Logistic Regression Accuaracy : \",metrics.accuracy_score(y_test, y_pred) )"
      ],
      "execution_count": 0,
      "outputs": [
        {
          "output_type": "stream",
          "text": [
            "Logistic Regression Accuaracy :  0.7106446776611695\n"
          ],
          "name": "stdout"
        }
      ]
    },
    {
      "cell_type": "markdown",
      "metadata": {
        "id": "TCxsgIy5f5Ek",
        "colab_type": "text"
      },
      "source": [
        "# RANDOM FOREST CLASSIFIER CODE"
      ]
    },
    {
      "cell_type": "markdown",
      "metadata": {
        "id": "nVLz9oQvzOLT",
        "colab_type": "text"
      },
      "source": [
        "\n",
        "\n",
        "---\n",
        "\n",
        "\n",
        "\n",
        "---\n",
        "\n",
        "\n",
        "Random Forest Classifier Classes\n",
        "\n",
        "---\n",
        "\n",
        "\n",
        "\n",
        "---\n",
        "\n"
      ]
    },
    {
      "cell_type": "code",
      "metadata": {
        "colab_type": "code",
        "outputId": "b0a8f0b5-679c-45bc-843f-04f7b597fb79",
        "id": "nkTmhFV6zqVu",
        "colab": {
          "base_uri": "https://localhost:8080/",
          "height": 833
        }
      },
      "source": [
        "import pandas as pd\n",
        "import numpy as np\n",
        "\n",
        "data =  readData()\n",
        "data.adult = data.adult.astype(int)\n",
        "data.video = data.video.astype(int)\n",
        "\n",
        "data.release_date = pd.to_datetime(data.release_date, format='%m/%d/%Y')\n",
        "data = categorizeRevenue(data)\n",
        "data.profit = data.profit.map({\"low-profit\":0,\"profit\":1,\"high-profit\":2})\n",
        "print(data.iloc[0])"
      ],
      "execution_count": 0,
      "outputs": [
        {
          "output_type": "stream",
          "text": [
            "adult                                                                    0\n",
            "belongs_to_collection                                 Toy Story Collection\n",
            "sequel                                                                   1\n",
            "budget                                                               3e+07\n",
            "genres                                   ['Animation', 'Comedy', 'Family']\n",
            "homepage                              http://toystory.disney.com/toy-story\n",
            "id                                                                     862\n",
            "imdb_id                                                          tt0114709\n",
            "original_language                                                       en\n",
            "original_title                                                   Toy Story\n",
            "overview                 Led by Woody, Andy's toys live happily in his ...\n",
            "popularity                                                         21.9469\n",
            "poster_path                               /rhIRbceoE9lR4veEXuwCC2wARtG.jpg\n",
            "production_companies                           ['Pixar Animation Studios']\n",
            "production_countries                                                ['US']\n",
            "release_date                                           1995-10-30 00:00:00\n",
            "revenue                                                        3.73554e+08\n",
            "runtime                                                                 81\n",
            "spoken_languages                                                    ['en']\n",
            "status                                                            Released\n",
            "tagline                                                                NaN\n",
            "title                                                            Toy Story\n",
            "video                                                                    0\n",
            "vote_average                                                           7.7\n",
            "vote_count                                                            5415\n",
            "War                                                                      0\n",
            "TV_Movie                                                                 0\n",
            "Horror                                                                   0\n",
            "Western                                                                  0\n",
            "Foreign                                                                  0\n",
            "Comedy                                                                   1\n",
            "Documentary                                                              0\n",
            "Science_Fiction                                                          0\n",
            "Mystery                                                                  0\n",
            "Fantasy                                                                  0\n",
            "Crime                                                                    0\n",
            "Action                                                                   0\n",
            "Adventure                                                                0\n",
            "Drama                                                                    0\n",
            "Thriller                                                                 0\n",
            "Family                                                                   1\n",
            "Animation                                                                1\n",
            "Romance                                                                  0\n",
            "History                                                                  0\n",
            "Music                                                                    0\n",
            "vote_total                                                         41695.5\n",
            "profit                                                                   2\n",
            "Name: 0, dtype: object\n"
          ],
          "name": "stdout"
        }
      ]
    },
    {
      "cell_type": "code",
      "metadata": {
        "colab_type": "code",
        "id": "v0usohy5zqV1",
        "colab": {}
      },
      "source": [
        "from sklearn.ensemble import RandomForestClassifier, RandomForestRegressor\n",
        "from sklearn.model_selection import train_test_split\n",
        "\n",
        "feature_cols = ['adult','sequel','budget','popularity','vote_total',\n",
        "                'runtime','video','Documentary', 'Mystery', 'Fantasy',\n",
        "               'Horror', 'Thriller', 'Animation', 'Western', 'War', \n",
        "                'Family', 'Action','Adventure', 'TV_Movie', 'Music', \n",
        "                'Romance', 'Crime', 'Drama','History', 'Science_Fiction',\n",
        "                'Comedy', 'Foreign']\n",
        "\n",
        "\n",
        "model = RandomForestClassifier(n_estimators=200, max_features=len(feature_cols), oob_score=True)\n",
        "X_train, X_test, y_train, y_test = train_test_split(data[feature_cols], data[\"profit\"], test_size=0.20, random_state=5)\n",
        "model.fit(X_train, y_train)\n",
        "ypred = model.predict(X_test)"
      ],
      "execution_count": 0,
      "outputs": []
    },
    {
      "cell_type": "code",
      "metadata": {
        "colab_type": "code",
        "outputId": "347850e1-23c4-4b4d-ff5f-ed1ec508cf7f",
        "id": "5EaYTpZPzqV4",
        "colab": {
          "base_uri": "https://localhost:8080/",
          "height": 34
        }
      },
      "source": [
        "from sklearn.metrics import r2_score,accuracy_score\n",
        "# print(model.score(Xtest,ytest))\n",
        "# print(r2_score(ytest,ypred))\n",
        "print(\"Random Forest Classifier Accuracy : \",accuracy_score(y_test,ypred))"
      ],
      "execution_count": 0,
      "outputs": [
        {
          "output_type": "stream",
          "text": [
            "Random Forest Classifier Accuracy :  0.700374531835206\n"
          ],
          "name": "stdout"
        }
      ]
    },
    {
      "cell_type": "code",
      "metadata": {
        "colab_type": "code",
        "outputId": "82004463-03d9-4a4d-d896-74db4b59e8a3",
        "id": "E36QMbBHzqV6",
        "colab": {
          "base_uri": "https://localhost:8080/",
          "height": 34
        }
      },
      "source": [
        "# compute the out-of-bag classification accuracy\n",
        "model.oob_score_"
      ],
      "execution_count": 0,
      "outputs": [
        {
          "output_type": "execute_result",
          "data": {
            "text/plain": [
              "0.6834582942830365"
            ]
          },
          "metadata": {
            "tags": []
          },
          "execution_count": 283
        }
      ]
    },
    {
      "cell_type": "code",
      "metadata": {
        "colab_type": "code",
        "outputId": "e13a4305-1c43-4d12-9d30-96de8d6d703d",
        "id": "dJrNyx8CzqV9",
        "colab": {
          "base_uri": "https://localhost:8080/",
          "height": 886
        }
      },
      "source": [
        "pd.DataFrame({'feature':feature_cols, 'importance':model.feature_importances_})"
      ],
      "execution_count": 0,
      "outputs": [
        {
          "output_type": "execute_result",
          "data": {
            "text/html": [
              "<div>\n",
              "<style scoped>\n",
              "    .dataframe tbody tr th:only-of-type {\n",
              "        vertical-align: middle;\n",
              "    }\n",
              "\n",
              "    .dataframe tbody tr th {\n",
              "        vertical-align: top;\n",
              "    }\n",
              "\n",
              "    .dataframe thead th {\n",
              "        text-align: right;\n",
              "    }\n",
              "</style>\n",
              "<table border=\"1\" class=\"dataframe\">\n",
              "  <thead>\n",
              "    <tr style=\"text-align: right;\">\n",
              "      <th></th>\n",
              "      <th>feature</th>\n",
              "      <th>importance</th>\n",
              "    </tr>\n",
              "  </thead>\n",
              "  <tbody>\n",
              "    <tr>\n",
              "      <th>0</th>\n",
              "      <td>adult</td>\n",
              "      <td>0.000000</td>\n",
              "    </tr>\n",
              "    <tr>\n",
              "      <th>1</th>\n",
              "      <td>sequel</td>\n",
              "      <td>0.022820</td>\n",
              "    </tr>\n",
              "    <tr>\n",
              "      <th>2</th>\n",
              "      <td>budget</td>\n",
              "      <td>0.204137</td>\n",
              "    </tr>\n",
              "    <tr>\n",
              "      <th>3</th>\n",
              "      <td>popularity</td>\n",
              "      <td>0.134854</td>\n",
              "    </tr>\n",
              "    <tr>\n",
              "      <th>4</th>\n",
              "      <td>vote_total</td>\n",
              "      <td>0.355554</td>\n",
              "    </tr>\n",
              "    <tr>\n",
              "      <th>5</th>\n",
              "      <td>runtime</td>\n",
              "      <td>0.116419</td>\n",
              "    </tr>\n",
              "    <tr>\n",
              "      <th>6</th>\n",
              "      <td>video</td>\n",
              "      <td>0.000000</td>\n",
              "    </tr>\n",
              "    <tr>\n",
              "      <th>7</th>\n",
              "      <td>Documentary</td>\n",
              "      <td>0.002042</td>\n",
              "    </tr>\n",
              "    <tr>\n",
              "      <th>8</th>\n",
              "      <td>Mystery</td>\n",
              "      <td>0.008505</td>\n",
              "    </tr>\n",
              "    <tr>\n",
              "      <th>9</th>\n",
              "      <td>Fantasy</td>\n",
              "      <td>0.007111</td>\n",
              "    </tr>\n",
              "    <tr>\n",
              "      <th>10</th>\n",
              "      <td>Horror</td>\n",
              "      <td>0.008929</td>\n",
              "    </tr>\n",
              "    <tr>\n",
              "      <th>11</th>\n",
              "      <td>Thriller</td>\n",
              "      <td>0.012663</td>\n",
              "    </tr>\n",
              "    <tr>\n",
              "      <th>12</th>\n",
              "      <td>Animation</td>\n",
              "      <td>0.002760</td>\n",
              "    </tr>\n",
              "    <tr>\n",
              "      <th>13</th>\n",
              "      <td>Western</td>\n",
              "      <td>0.003808</td>\n",
              "    </tr>\n",
              "    <tr>\n",
              "      <th>14</th>\n",
              "      <td>War</td>\n",
              "      <td>0.004949</td>\n",
              "    </tr>\n",
              "    <tr>\n",
              "      <th>15</th>\n",
              "      <td>Family</td>\n",
              "      <td>0.011366</td>\n",
              "    </tr>\n",
              "    <tr>\n",
              "      <th>16</th>\n",
              "      <td>Action</td>\n",
              "      <td>0.011484</td>\n",
              "    </tr>\n",
              "    <tr>\n",
              "      <th>17</th>\n",
              "      <td>Adventure</td>\n",
              "      <td>0.010790</td>\n",
              "    </tr>\n",
              "    <tr>\n",
              "      <th>18</th>\n",
              "      <td>TV_Movie</td>\n",
              "      <td>0.000000</td>\n",
              "    </tr>\n",
              "    <tr>\n",
              "      <th>19</th>\n",
              "      <td>Music</td>\n",
              "      <td>0.006172</td>\n",
              "    </tr>\n",
              "    <tr>\n",
              "      <th>20</th>\n",
              "      <td>Romance</td>\n",
              "      <td>0.015039</td>\n",
              "    </tr>\n",
              "    <tr>\n",
              "      <th>21</th>\n",
              "      <td>Crime</td>\n",
              "      <td>0.011720</td>\n",
              "    </tr>\n",
              "    <tr>\n",
              "      <th>22</th>\n",
              "      <td>Drama</td>\n",
              "      <td>0.014076</td>\n",
              "    </tr>\n",
              "    <tr>\n",
              "      <th>23</th>\n",
              "      <td>History</td>\n",
              "      <td>0.004565</td>\n",
              "    </tr>\n",
              "    <tr>\n",
              "      <th>24</th>\n",
              "      <td>Science_Fiction</td>\n",
              "      <td>0.010596</td>\n",
              "    </tr>\n",
              "    <tr>\n",
              "      <th>25</th>\n",
              "      <td>Comedy</td>\n",
              "      <td>0.019497</td>\n",
              "    </tr>\n",
              "    <tr>\n",
              "      <th>26</th>\n",
              "      <td>Foreign</td>\n",
              "      <td>0.000145</td>\n",
              "    </tr>\n",
              "  </tbody>\n",
              "</table>\n",
              "</div>"
            ],
            "text/plain": [
              "            feature  importance\n",
              "0             adult    0.000000\n",
              "1            sequel    0.022820\n",
              "2            budget    0.204137\n",
              "3        popularity    0.134854\n",
              "4        vote_total    0.355554\n",
              "5           runtime    0.116419\n",
              "6             video    0.000000\n",
              "7       Documentary    0.002042\n",
              "8           Mystery    0.008505\n",
              "9           Fantasy    0.007111\n",
              "10           Horror    0.008929\n",
              "11         Thriller    0.012663\n",
              "12        Animation    0.002760\n",
              "13          Western    0.003808\n",
              "14              War    0.004949\n",
              "15           Family    0.011366\n",
              "16           Action    0.011484\n",
              "17        Adventure    0.010790\n",
              "18         TV_Movie    0.000000\n",
              "19            Music    0.006172\n",
              "20          Romance    0.015039\n",
              "21            Crime    0.011720\n",
              "22            Drama    0.014076\n",
              "23          History    0.004565\n",
              "24  Science_Fiction    0.010596\n",
              "25           Comedy    0.019497\n",
              "26          Foreign    0.000145"
            ]
          },
          "metadata": {
            "tags": []
          },
          "execution_count": 284
        }
      ]
    },
    {
      "cell_type": "markdown",
      "metadata": {
        "id": "Zq9tW5L6f-Vm",
        "colab_type": "text"
      },
      "source": [
        "# ENSEMBLE MODEL CODE"
      ]
    },
    {
      "cell_type": "markdown",
      "metadata": {
        "id": "HcQk8AqXX-Ju",
        "colab_type": "text"
      },
      "source": [
        "\n",
        "\n",
        "---\n",
        "\n",
        "\n",
        "\n",
        "---\n",
        "Ensemble Model\n",
        "\n",
        "\n",
        "---\n",
        "\n",
        "\n",
        "---\n",
        "\n",
        "\n",
        "\n"
      ]
    },
    {
      "cell_type": "code",
      "metadata": {
        "id": "uXW9U7Bb8paS",
        "colab_type": "code",
        "outputId": "158cfeba-be1b-4a9e-d341-d61d2738569e",
        "colab": {
          "base_uri": "https://localhost:8080/",
          "height": 105
        }
      },
      "source": [
        "from mlxtend.classifier import EnsembleVoteClassifier\n",
        "from mlxtend.feature_selection import ColumnSelector\n",
        "from sklearn.pipeline import make_pipeline\n",
        "from sklearn.linear_model import LogisticRegression"
      ],
      "execution_count": 0,
      "outputs": [
        {
          "output_type": "stream",
          "text": [
            "/usr/local/lib/python3.6/dist-packages/sklearn/externals/six.py:31: FutureWarning: The module is deprecated in version 0.21 and will be removed in version 0.23 since we've dropped support for Python 2.7. Please rely on the official version of six (https://pypi.org/project/six/).\n",
            "  \"(https://pypi.org/project/six/).\", FutureWarning)\n",
            "/usr/local/lib/python3.6/dist-packages/sklearn/externals/joblib/__init__.py:15: FutureWarning: sklearn.externals.joblib is deprecated in 0.21 and will be removed in 0.23. Please import this functionality directly from joblib, which can be installed with: pip install joblib. If this warning is raised when loading pickled models, you may need to re-serialize those models with scikit-learn 0.21+.\n",
            "  warnings.warn(msg, category=FutureWarning)\n"
          ],
          "name": "stderr"
        }
      ]
    },
    {
      "cell_type": "code",
      "metadata": {
        "id": "U6gHyd7p_Xfg",
        "colab_type": "code",
        "colab": {}
      },
      "source": [
        "data =  readData()\n",
        "data.adult = data.adult.astype(int)\n",
        "data.video = data.video.astype(int)\n",
        "data.release_date = pd.to_datetime(data.release_date, format='%m/%d/%Y')\n",
        "data = categorizeRevenue(data)\n",
        "data.profit = data.profit.map({\"low-profit\":0,\"profit\":1,\"high-profit\":2})"
      ],
      "execution_count": 0,
      "outputs": []
    },
    {
      "cell_type": "code",
      "metadata": {
        "id": "txDcTdIS_btZ",
        "colab_type": "code",
        "outputId": "738f8f8e-c8ee-48bb-bbb5-612803cfae39",
        "colab": {
          "base_uri": "https://localhost:8080/",
          "height": 255
        }
      },
      "source": [
        "all_feature_cols = ['adult','sequel','budget','popularity','vote_total',\n",
        "                'runtime','video','Documentary', 'Mystery', 'Fantasy',\n",
        "               'Horror', 'Thriller', 'Animation', 'Western', 'War', \n",
        "                'Family', 'Action','Adventure', 'TV_Movie', 'Music', \n",
        "                'Romance', 'Crime', 'Drama','History', 'Science_Fiction',\n",
        "                'Comedy', 'Foreign','profit','overview']\n",
        "feature_cols = ['adult','sequel','budget','popularity','vote_total',\n",
        "                'runtime','video','Documentary', 'Mystery', 'Fantasy',\n",
        "               'Horror', 'Thriller', 'Animation', 'Western', 'War', \n",
        "                'Family', 'Action','Adventure', 'TV_Movie', 'Music', \n",
        "                'Romance', 'Crime', 'Drama','History', 'Science_Fiction',\n",
        "                'Comedy', 'Foreign','overview']\n",
        "dataX = data[all_feature_cols]\n",
        "X_train, X_test, y_train, y_test = train_test_split(dataX[feature_cols], dataX[\"profit\"], test_size=0.20, random_state=42)\n",
        "print(X_train.loc[0:10,X_train.columns!='overview'])"
      ],
      "execution_count": 0,
      "outputs": [
        {
          "output_type": "stream",
          "text": [
            "      adult  sequel       budget  ...  Science_Fiction  Comedy  Foreign\n",
            "0         0       1   30000000.0  ...                0       1        0\n",
            "2174      0       0   15000000.0  ...                0       1        0\n",
            "1356      0       0   18000000.0  ...                0       1        0\n",
            "3886      0       1  200000000.0  ...                0       1        0\n",
            "4998      0       0    6000000.0  ...                0       1        0\n",
            "...     ...     ...          ...  ...              ...     ...      ...\n",
            "1389      0       0   15000000.0  ...                1       1        0\n",
            "3564      0       0   45000000.0  ...                0       0        0\n",
            "884       0       0    2000000.0  ...                0       1        0\n",
            "1868      0       0   75000000.0  ...                0       1        0\n",
            "10        0       0   98000000.0  ...                0       0        0\n",
            "\n",
            "[1877 rows x 27 columns]\n"
          ],
          "name": "stdout"
        }
      ]
    },
    {
      "cell_type": "code",
      "metadata": {
        "id": "wd2F5o3ZRHk4",
        "colab_type": "code",
        "colab": {}
      },
      "source": [
        "#Custom transformer using spaCy \n",
        "class predictors(TransformerMixin):\n",
        "    def transform(self, X, **transform_params):\n",
        "        return [clean_text(str(text)) for text in X]\n",
        "    def fit(self, X, y=None, **fit_params):\n",
        "        return self\n",
        "    def get_params(self, deep=True):\n",
        "        return {}"
      ],
      "execution_count": 0,
      "outputs": []
    },
    {
      "cell_type": "code",
      "metadata": {
        "id": "8Yp4b8rfRdJK",
        "colab_type": "code",
        "colab": {}
      },
      "source": [
        "# Basic function to clean the text \n",
        "def clean_text(text):     \n",
        "    return text.strip().lower()"
      ],
      "execution_count": 0,
      "outputs": []
    },
    {
      "cell_type": "code",
      "metadata": {
        "id": "LqM9D5vbRe9v",
        "colab_type": "code",
        "colab": {}
      },
      "source": [
        "# Vectorization\n",
        "vectorizer = CountVectorizer(tokenizer = spacy_tokenizer, ngram_range=(1,1)) \n",
        "# classifier = LinearSVC()\n",
        "classifier = SVC(C=150, gamma=2e-2, probability=True)"
      ],
      "execution_count": 0,
      "outputs": []
    },
    {
      "cell_type": "code",
      "metadata": {
        "id": "kr4bh83JRgyo",
        "colab_type": "code",
        "colab": {}
      },
      "source": [
        "# Using Tfidf\n",
        "tfvectorizer = TfidfVectorizer(tokenizer = spacy_tokenizer)"
      ],
      "execution_count": 0,
      "outputs": []
    },
    {
      "cell_type": "code",
      "metadata": {
        "id": "SYaMdk-dphNT",
        "colab_type": "code",
        "colab": {}
      },
      "source": [
        "import numpy as np\n",
        "from sklearn.preprocessing import LabelEncoder\n",
        "\n",
        "def fit_multiple_estimators(classifiers, X_list, y, sample_weights = None):\n",
        "\n",
        "    # Convert the labels `y` using LabelEncoder, because the predict method is using index-based pointers\n",
        "    # which will be converted back to original data later.\n",
        "    le_ = LabelEncoder()\n",
        "    le_.fit(y)\n",
        "    transformed_y = le_.transform(y)\n",
        "\n",
        "    # Fit all estimators with their respective feature arrays\n",
        "    estimators_ = [clf.fit(X, y) if sample_weights is None else clf.fit(X, y, sample_weights) for clf, X in zip([clf for _, clf in classifiers], X_list)]\n",
        "\n",
        "    return estimators_, le_\n",
        "\n",
        "\n",
        "def predict_from_multiple_estimator(estimators, label_encoder, X_list, weights = None):\n",
        "\n",
        "    # Predict 'soft' voting with probabilities\n",
        "\n",
        "    pred1 = np.asarray([clf.predict_proba(X) for clf, X in zip(estimators, X_list)])\n",
        "    pred2 = np.average(pred1, axis=0, weights=weights)\n",
        "    pred = np.argmax(pred2, axis=1)\n",
        "\n",
        "    # Convert integer predictions to original labels:\n",
        "    return label_encoder.inverse_transform(pred)"
      ],
      "execution_count": 0,
      "outputs": []
    },
    {
      "cell_type": "code",
      "metadata": {
        "id": "o9YYaCKNpu08",
        "colab_type": "code",
        "colab": {}
      },
      "source": [
        "X_train1, X_train2 = X_train.loc[:,X_train.columns!='overview'], X_train.loc[:,'overview']\n",
        "X_test1, X_test2 = X_test.loc[:,X_test.columns!='overview'], X_test.loc[:,'overview']\n",
        "\n",
        "X_train_list = [X_train1, X_train2, X_train1]\n",
        "X_test_list = [X_test1, X_test2, X_test1]"
      ],
      "execution_count": 0,
      "outputs": []
    },
    {
      "cell_type": "code",
      "metadata": {
        "id": "GVEDhgZ5qdxl",
        "colab_type": "code",
        "colab": {}
      },
      "source": [
        "model = RandomForestClassifier(n_estimators=200, max_features=5, oob_score=True)\n",
        "logreg = LogisticRegression(solver='newton-cg', max_iter=500)\n",
        "pipe = Pipeline([(\"cleaner\", predictors()),\n",
        "                 ('vectorizer', vectorizer),\n",
        "                 ('classifier', classifier)])\n",
        "\n",
        "classifiers = [('lr',logreg),('nlp',pipe),('rf',model)]"
      ],
      "execution_count": 0,
      "outputs": []
    },
    {
      "cell_type": "code",
      "metadata": {
        "id": "7SpOMCLrqdrq",
        "colab_type": "code",
        "outputId": "1d817897-d10f-4859-ef34-42ad5a713be7",
        "colab": {
          "base_uri": "https://localhost:8080/",
          "height": 153
        }
      },
      "source": [
        "fitted_estimators, label_encoder = fit_multiple_estimators(classifiers, X_train_list, y_train)\n"
      ],
      "execution_count": 0,
      "outputs": [
        {
          "output_type": "stream",
          "text": [
            "/usr/local/lib/python3.6/dist-packages/scipy/optimize/linesearch.py:466: LineSearchWarning: The line search algorithm did not converge\n",
            "  warn('The line search algorithm did not converge', LineSearchWarning)\n",
            "/usr/local/lib/python3.6/dist-packages/scipy/optimize/linesearch.py:314: LineSearchWarning: The line search algorithm did not converge\n",
            "  warn('The line search algorithm did not converge', LineSearchWarning)\n",
            "/usr/local/lib/python3.6/dist-packages/scipy/optimize/linesearch.py:426: LineSearchWarning: Rounding errors prevent the line search from converging\n",
            "  warn(msg, LineSearchWarning)\n",
            "/usr/local/lib/python3.6/dist-packages/sklearn/utils/optimize.py:204: UserWarning: Line Search failed\n",
            "  warnings.warn('Line Search failed')\n"
          ],
          "name": "stderr"
        }
      ]
    },
    {
      "cell_type": "code",
      "metadata": {
        "id": "hhZ2btB4q1mG",
        "colab_type": "code",
        "colab": {}
      },
      "source": [
        "y_pred = predict_from_multiple_estimator(fitted_estimators, label_encoder, X_test_list)\n"
      ],
      "execution_count": 0,
      "outputs": []
    },
    {
      "cell_type": "code",
      "metadata": {
        "id": "RHJH0py5q3up",
        "colab_type": "code",
        "outputId": "450a351a-3d6b-459b-8880-94c2906ea1fe",
        "colab": {
          "base_uri": "https://localhost:8080/",
          "height": 34
        }
      },
      "source": [
        "from sklearn.metrics import accuracy_score\n",
        "print(\"Ensemble Model Accuracy : \",accuracy_score(y_test, y_pred))"
      ],
      "execution_count": 0,
      "outputs": [
        {
          "output_type": "stream",
          "text": [
            "Ensemble Model Accuracy :  0.6966292134831461\n"
          ],
          "name": "stdout"
        }
      ]
    },
    {
      "cell_type": "code",
      "metadata": {
        "id": "93GzJ6tGrgin",
        "colab_type": "code",
        "colab": {}
      },
      "source": [
        ""
      ],
      "execution_count": 0,
      "outputs": []
    },
    {
      "cell_type": "markdown",
      "metadata": {
        "id": "JzfTiuR2gCls",
        "colab_type": "text"
      },
      "source": [
        "# NEURAL NETWORK CLASSIFIER CODE"
      ]
    },
    {
      "cell_type": "markdown",
      "metadata": {
        "colab_type": "text",
        "id": "KkmtqKXAYXfB"
      },
      "source": [
        "\n",
        "\n",
        "---\n",
        "\n",
        "\n",
        "\n",
        "---\n",
        "Neural Network Classifier\n",
        "\n",
        "\n",
        "---\n",
        "\n",
        "\n",
        "\n",
        "---\n",
        "\n",
        "\n"
      ]
    },
    {
      "cell_type": "code",
      "metadata": {
        "colab_type": "code",
        "id": "SELfvlQAzsbm",
        "colab": {}
      },
      "source": [
        "import tensorflow as tf\n",
        "from tensorflow import keras\n",
        "from keras.models import Sequential\n",
        "from keras.layers import Dense, Activation\n",
        "from sklearn.model_selection import train_test_split\n",
        "from sklearn.preprocessing import MinMaxScaler\n",
        "from ast import literal_eval\n",
        "\n",
        "data = readData()\n",
        "data.adult = data.adult.astype(int)\n",
        "data.video = data.video.astype(int)\n",
        "data['release_date'] = pd.to_datetime(data['release_date'],format='%m/%d/%Y')\n",
        "data=categorizeRevenue(data)\n",
        "data.profit = data.profit.map({'low-profit':0,'profit':1,'high-profit':2})"
      ],
      "execution_count": 0,
      "outputs": []
    },
    {
      "cell_type": "code",
      "metadata": {
        "colab_type": "code",
        "id": "s72wtRpgYXfG",
        "colab": {}
      },
      "source": [
        "feature_cols = ['adult','sequel','budget','popularity', 'vote_total',\n",
        "                # 'production_companies', 'production_countries','release_date', 'spoken_languages',\n",
        "                'runtime','video','Documentary', 'Mystery', 'Fantasy',\n",
        "               'Horror', 'Thriller', 'Animation', 'Western', 'War', \n",
        "                'Family', 'Action','Adventure', 'TV_Movie', 'Music', \n",
        "                'Romance', 'Crime', 'Drama','History', 'Science_Fiction',\n",
        "                'Comedy', 'Foreign']\n",
        "\n",
        "X_train_full, X_test, y_train_full, y_test = train_test_split(data[feature_cols], data['profit'], test_size=0.2, random_state=42)\n",
        "X_train, X_valid, y_train, y_valid = train_test_split(X_train_full, y_train_full,test_size=0.2, random_state=42)\n",
        "\n",
        "scaler = MinMaxScaler()\n",
        "X_train = scaler.fit_transform(X_train.values)\n",
        "X_valid = scaler.transform(X_valid.values)\n",
        "X_test = scaler.transform(X_test.values)\n",
        "# print(y_train_full.columns)\n",
        "# y_train = y_train.values\n",
        "y_train_onehot = pd.get_dummies(y_train).values\n",
        "y_valid_onehot = pd.get_dummies(y_valid).values\n",
        "y_test_onehot = pd.get_dummies(y_test).values"
      ],
      "execution_count": 0,
      "outputs": []
    },
    {
      "cell_type": "code",
      "metadata": {
        "colab_type": "code",
        "id": "wX7Nz2Ugzsbw",
        "colab": {}
      },
      "source": [
        "from keras import backend as K\n",
        "\n",
        "def coeff_determination(y_true, y_pred):\n",
        "    SS_res =  K.sum(K.square( y_true-y_pred )) \n",
        "    SS_tot = K.sum(K.square( y_true - K.mean(y_true) ) ) \n",
        "    return ( 1 - SS_res/(SS_tot + K.epsilon()) )"
      ],
      "execution_count": 0,
      "outputs": []
    },
    {
      "cell_type": "code",
      "metadata": {
        "colab_type": "code",
        "outputId": "4ff8c58c-f278-4dec-85fc-db47ba49bf7b",
        "id": "m7aMmVDSzsby",
        "colab": {
          "base_uri": "https://localhost:8080/",
          "height": 700
        }
      },
      "source": [
        "import tensorflow as tf\n",
        "from tensorflow import keras\n",
        "from keras.models import Sequential\n",
        "from keras.layers import Dense, Activation, Dropout\n",
        "np.random.seed(42)\n",
        "tf.random.set_random_seed(1)\n",
        "# start = time()\n",
        "es = keras.callbacks.EarlyStopping(monitor='val_loss', mode='min', verbose=1)\n",
        "model = Sequential()\n",
        "model.add(Dense(input_dim=27,output_dim=54))\n",
        "# model.add(Activation(\"softmax\"))\n",
        "model.add(Dropout(0.2))\n",
        "model.add(Dense(output_dim=27))\n",
        "# model.add(Activation(\"softmax\"))\n",
        "model.add(Dropout(0.2))\n",
        "model.add(Dense(output_dim=3))\n",
        "model.add(Activation(\"softmax\"))\n",
        "# model.add(Dropout(0.2))\n",
        "# model.add(Dense(8))\n",
        "# model.add(Activation(\"softmax\"))\n",
        "# model.add(Dropout(0.2))\n",
        "# model.add(Dense(5))\n",
        "# model.add(Activation(\"softmax\"))\n",
        "# model.add(Dropout(0.15))\n",
        "# model.add(Dense(3))\n",
        "# model.add(Activation(\"softmax\"))\n",
        "\n",
        "model.compile(loss='categorical_crossentropy', optimizer='adam', metrics=['accuracy'])\n",
        "\n",
        "history = model.fit(X_train, y_train_onehot, epochs=200, validation_data=(X_valid, y_valid_onehot), callbacks=[es])\n",
        "mse_test = model.evaluate(X_test, y_test_onehot)\n",
        "X_new = X_test\n",
        "y_pred = model.predict(X_new)\n",
        "print(mse_test)\n",
        "y_prediction = model.predict_classes(X_test)\n",
        "\n",
        "# plt.plot(y_test.values, color = 'red', label = 'Real data')\n",
        "# plt.plot(y_pred.flatten(), color = 'blue', label = 'Predicted data')\n",
        "# plt.title('Prediction')\n",
        "# plt.legend()\n",
        "# plt.show()"
      ],
      "execution_count": 0,
      "outputs": [
        {
          "output_type": "stream",
          "text": [
            "WARNING:tensorflow:From /usr/local/lib/python3.6/dist-packages/keras/backend/tensorflow_backend.py:3576: The name tf.log is deprecated. Please use tf.math.log instead.\n",
            "\n"
          ],
          "name": "stdout"
        },
        {
          "output_type": "stream",
          "text": [
            "/usr/local/lib/python3.6/dist-packages/ipykernel_launcher.py:10: UserWarning: Update your `Dense` call to the Keras 2 API: `Dense(input_dim=27, units=54)`\n",
            "  # Remove the CWD from sys.path while we load stuff.\n",
            "/usr/local/lib/python3.6/dist-packages/ipykernel_launcher.py:13: UserWarning: Update your `Dense` call to the Keras 2 API: `Dense(units=27)`\n",
            "  del sys.path[0]\n",
            "/usr/local/lib/python3.6/dist-packages/ipykernel_launcher.py:16: UserWarning: Update your `Dense` call to the Keras 2 API: `Dense(units=3)`\n",
            "  app.launch_new_instance()\n"
          ],
          "name": "stderr"
        },
        {
          "output_type": "stream",
          "text": [
            "WARNING:tensorflow:From /usr/local/lib/python3.6/dist-packages/tensorflow_core/python/ops/math_grad.py:1424: where (from tensorflow.python.ops.array_ops) is deprecated and will be removed in a future version.\n",
            "Instructions for updating:\n",
            "Use tf.where in 2.0, which has the same broadcast rule as np.where\n",
            "Train on 3414 samples, validate on 854 samples\n",
            "Epoch 1/200\n",
            "3414/3414 [==============================] - 8s 2ms/step - loss: 1.0246 - acc: 0.4924 - val_loss: 0.9370 - val_acc: 0.5574\n",
            "Epoch 2/200\n",
            "3414/3414 [==============================] - 0s 105us/step - loss: 0.9191 - acc: 0.5501 - val_loss: 0.8777 - val_acc: 0.5831\n",
            "Epoch 3/200\n",
            "3414/3414 [==============================] - 0s 100us/step - loss: 0.8515 - acc: 0.5926 - val_loss: 0.8135 - val_acc: 0.6230\n",
            "Epoch 4/200\n",
            "3414/3414 [==============================] - 0s 98us/step - loss: 0.8063 - acc: 0.6104 - val_loss: 0.7696 - val_acc: 0.6241\n",
            "Epoch 5/200\n",
            "3414/3414 [==============================] - 0s 104us/step - loss: 0.7711 - acc: 0.6239 - val_loss: 0.7437 - val_acc: 0.6475\n",
            "Epoch 6/200\n",
            "3414/3414 [==============================] - 0s 107us/step - loss: 0.7462 - acc: 0.6432 - val_loss: 0.7271 - val_acc: 0.6311\n",
            "Epoch 7/200\n",
            "3414/3414 [==============================] - 0s 108us/step - loss: 0.7301 - acc: 0.6517 - val_loss: 0.7100 - val_acc: 0.6557\n",
            "Epoch 8/200\n",
            "3414/3414 [==============================] - 0s 107us/step - loss: 0.7186 - acc: 0.6576 - val_loss: 0.7017 - val_acc: 0.6686\n",
            "Epoch 9/200\n",
            "3414/3414 [==============================] - 0s 103us/step - loss: 0.7136 - acc: 0.6585 - val_loss: 0.6990 - val_acc: 0.6616\n",
            "Epoch 10/200\n",
            "3414/3414 [==============================] - 0s 101us/step - loss: 0.7065 - acc: 0.6620 - val_loss: 0.6964 - val_acc: 0.6628\n",
            "Epoch 11/200\n",
            "3414/3414 [==============================] - 0s 102us/step - loss: 0.7109 - acc: 0.6538 - val_loss: 0.6877 - val_acc: 0.6663\n",
            "Epoch 12/200\n",
            "3414/3414 [==============================] - 0s 107us/step - loss: 0.7004 - acc: 0.6640 - val_loss: 0.6930 - val_acc: 0.6557\n",
            "Epoch 00012: early stopping\n",
            "1068/1068 [==============================] - 0s 68us/step\n",
            "[0.7042619851644566, 0.6853932584269663]\n"
          ],
          "name": "stdout"
        }
      ]
    },
    {
      "cell_type": "code",
      "metadata": {
        "id": "YY-Ve39ZYh8l",
        "colab_type": "code",
        "outputId": "6cffef18-7ade-45bb-8d76-703cbcaba253",
        "colab": {
          "base_uri": "https://localhost:8080/",
          "height": 34
        }
      },
      "source": [
        "print(\"Neural Network Classifier Accuracy : \", np.sum(y_prediction == y_test) / float(len(y_test)))"
      ],
      "execution_count": 0,
      "outputs": [
        {
          "output_type": "stream",
          "text": [
            "Neural Network Classifier Accuracy :  0.6853932584269663\n"
          ],
          "name": "stdout"
        }
      ]
    },
    {
      "cell_type": "code",
      "metadata": {
        "colab_type": "code",
        "outputId": "99cbcf16-769b-4739-ce1e-4fe12a380e15",
        "id": "pRgr80LdYXfP",
        "colab": {
          "base_uri": "https://localhost:8080/",
          "height": 295
        }
      },
      "source": [
        "plt.plot(history.history['loss'])\n",
        "plt.plot(history.history['val_loss'])\n",
        "plt.title('Model loss')\n",
        "plt.ylabel('Loss')\n",
        "plt.xlabel('Epoch')\n",
        "plt.legend(['Train', 'Test'], loc='upper right')\n",
        "plt.show()"
      ],
      "execution_count": 0,
      "outputs": [
        {
          "output_type": "display_data",
          "data": {
            "image/png": "[encoded data removed]",
            "text/plain": [
              "<Figure size 432x288 with 1 Axes>"
            ]
          },
          "metadata": {
            "tags": []
          }
        }
      ]
    },
    {
      "cell_type": "code",
      "metadata": {
        "id": "U_ap5bsLdJwZ",
        "colab_type": "code",
        "colab": {}
      },
      "source": [
        ""
      ],
      "execution_count": 0,
      "outputs": []
    }
  ]
}
